{
  "cells": [
    {
      "cell_type": "markdown",
      "metadata": {
        "id": "view-in-github",
        "colab_type": "text"
      },
      "source": [
        "<a href=\"https://colab.research.google.com/github/Yukkitsune/TBank-Analytics/blob/main/Probability%20theory%20and%20mathematical%20statistics/homework3_statistics.ipynb\" target=\"_parent\"><img src=\"https://colab.research.google.com/assets/colab-badge.svg\" alt=\"Open In Colab\"/></a>"
      ]
    },
    {
      "cell_type": "markdown",
      "source": [
        "https://drive.google.com/file/d/1zX-1WiILrcOHiZuU-iqDfgvt-ICScW0s/view?usp=sharing"
      ],
      "metadata": {
        "id": "04Mti3tPUIfU"
      },
      "id": "04Mti3tPUIfU"
    },
    {
      "cell_type": "code",
      "source": [
        "!gdown 1zX-1WiILrcOHiZuU-iqDfgvt-ICScW0s"
      ],
      "metadata": {
        "colab": {
          "base_uri": "https://localhost:8080/"
        },
        "id": "LOfv97obULJF",
        "outputId": "09a0c0e1-2aa4-4df8-c01f-f0f1c0f5b122"
      },
      "id": "LOfv97obULJF",
      "execution_count": 1,
      "outputs": [
        {
          "output_type": "stream",
          "name": "stdout",
          "text": [
            "Downloading...\n",
            "From: https://drive.google.com/uc?id=1zX-1WiILrcOHiZuU-iqDfgvt-ICScW0s\n",
            "To: /content/statistics_hw3.zip\n",
            "\r  0% 0.00/32.3k [00:00<?, ?B/s]\r100% 32.3k/32.3k [00:00<00:00, 37.6MB/s]\n"
          ]
        }
      ]
    },
    {
      "cell_type": "code",
      "source": [
        "!unzip '/content/statistics_hw3.zip'"
      ],
      "metadata": {
        "colab": {
          "base_uri": "https://localhost:8080/"
        },
        "id": "cVZwqVmnUN0J",
        "outputId": "f9cc2ec9-cc08-4a81-d90c-152218001e53"
      },
      "id": "cVZwqVmnUN0J",
      "execution_count": 2,
      "outputs": [
        {
          "output_type": "stream",
          "name": "stdout",
          "text": [
            "Archive:  /content/statistics_hw3.zip\n",
            "  inflating: data_with_test_results.csv  \n",
            "  inflating: dataset_for_design.csv  \n"
          ]
        }
      ]
    },
    {
      "cell_type": "code",
      "execution_count": 3,
      "id": "d354b7f2",
      "metadata": {
        "id": "d354b7f2"
      },
      "outputs": [],
      "source": [
        "import pandas as pd\n",
        "import matplotlib.pyplot as plt\n",
        "import numpy as np\n",
        "from scipy.stats import ttest_ind\n",
        "from tqdm import tqdm"
      ]
    },
    {
      "cell_type": "markdown",
      "id": "e96ea679",
      "metadata": {
        "id": "e96ea679"
      },
      "source": [
        "## Задание 1.\n",
        "**Проведите исследование того, как мощность T-test зависит от пропорций выборки.**\n",
        "1) Для этого сгенерируйте выборку из 1000000 значений из нормального распределения со средний значением 100 и СКО 1000.\n",
        "2) Далее разделите выборку в пропорции 50 на 50\n",
        "3) Проведите синтетический AB тест, в котором группе B дайте разные размеры эффект (от 1% до 100% с шагом в 10%)\n",
        "4) Посчитайте вероятность ошибки 2 рода\n",
        "5) Повторите операции для выборок с пропорцией: 10 на 90, 20 на 80, 30 на 70, 40 на 60, где меньшее значение - это будет размер контрольной группы, а большее - размер тестовой группы\n",
        "6) Постройте график, где по оси X будет размер эффекта, по оси Y вероятность ошибки 2 рода, а каждая линия соответсвует одной из пропорции"
      ]
    },
    {
      "cell_type": "code",
      "execution_count": null,
      "id": "de0cadf5",
      "metadata": {
        "id": "de0cadf5"
      },
      "outputs": [],
      "source": []
    },
    {
      "cell_type": "markdown",
      "id": "72542dbb",
      "metadata": {
        "id": "72542dbb"
      },
      "source": [
        "## Задание 2.\n",
        "**Подведение результатов эксперимента**\n",
        "1) Откройте файл с данными `data_with_test_results.csv`\n",
        "2) Посчитайте посчитайте количество заказов у каждого клиента за период эксперимента\n",
        "3) Посчитайте насколько значимы изменения среднего количества заказов у клиента в группе B по сравнению с группой А с помощью t-теста и бутстрапа\n",
        "4) Постройте график с кумулятивным среднийм значеним в группе A и B и посмотрите насколько этот эффект виден"
      ]
    },
    {
      "cell_type": "code",
      "execution_count": null,
      "id": "a8c3a541",
      "metadata": {
        "id": "a8c3a541"
      },
      "outputs": [],
      "source": []
    },
    {
      "cell_type": "markdown",
      "id": "8db6eeaa",
      "metadata": {
        "id": "8db6eeaa"
      },
      "source": [
        "## Задание 3.\n",
        "**Дизайн эксперимента**\n",
        "1) Откройте файл с данными `dataset_for_design`\n",
        "2) Рассчитайте количество наблюдений, которое необходимо набрать, чтобы у этой метрики увидеть ее увеличение на 5%\n",
        "3) Проверьте свой ответ с помощью метода Монте-Карло. Покажите, что мощность теста действительно совпадает с заявленной\n",
        "\n"
      ]
    },
    {
      "cell_type": "code",
      "execution_count": null,
      "id": "d253ab7c",
      "metadata": {
        "id": "d253ab7c"
      },
      "outputs": [],
      "source": []
    }
  ],
  "metadata": {
    "kernelspec": {
      "display_name": "Python 3",
      "language": "python",
      "name": "python3"
    },
    "language_info": {
      "codemirror_mode": {
        "name": "ipython",
        "version": 3
      },
      "file_extension": ".py",
      "mimetype": "text/x-python",
      "name": "python",
      "nbconvert_exporter": "python",
      "pygments_lexer": "ipython3",
      "version": "3.9.6"
    },
    "colab": {
      "provenance": [],
      "include_colab_link": true
    }
  },
  "nbformat": 4,
  "nbformat_minor": 5
}