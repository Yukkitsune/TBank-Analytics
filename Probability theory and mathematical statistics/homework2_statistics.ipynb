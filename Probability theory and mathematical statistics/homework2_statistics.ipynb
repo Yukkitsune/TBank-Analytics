{
  "cells": [
    {
      "cell_type": "markdown",
      "metadata": {
        "id": "view-in-github",
        "colab_type": "text"
      },
      "source": [
        "<a href=\"https://colab.research.google.com/github/Yukkitsune/TBank-Analytics/blob/main/Probability%20theory%20and%20mathematical%20statistics/homework2_statistics.ipynb\" target=\"_parent\"><img src=\"https://colab.research.google.com/assets/colab-badge.svg\" alt=\"Open In Colab\"/></a>"
      ]
    },
    {
      "cell_type": "code",
      "execution_count": 1,
      "id": "89cb2276",
      "metadata": {
        "id": "89cb2276"
      },
      "outputs": [],
      "source": [
        "import numpy as np\n",
        "from scipy.stats import ttest_ind, t\n",
        "import matplotlib.pyplot as plt"
      ]
    },
    {
      "cell_type": "markdown",
      "id": "c0d6ba17",
      "metadata": {
        "id": "c0d6ba17"
      },
      "source": [
        "___"
      ]
    },
    {
      "cell_type": "markdown",
      "id": "e1762c60",
      "metadata": {
        "id": "e1762c60"
      },
      "source": [
        "## Задание 1: t-test для независимых выборок (критерий Уэлча)\n",
        "### Реализуйте тест Уэлча на python.\n",
        "Для двух независимых выборок напишите функцию, которая возвращает значение t-статистики. Функция должна принимать на вход два массива, а возвращать значение t-статистики. В описании функции укажите статистическую гипотезу, для которой применяется критерий Уэлча.\n",
        "\n",
        "P.s. Использовать ttest_ind запрещено"
      ]
    },
    {
      "cell_type": "code",
      "source": [
        "def welchs_test (x1, x2):\n",
        "  pass"
      ],
      "metadata": {
        "id": "ppZvjHk3Un8v"
      },
      "id": "ppZvjHk3Un8v",
      "execution_count": null,
      "outputs": []
    },
    {
      "cell_type": "markdown",
      "id": "0d1423a2",
      "metadata": {
        "id": "0d1423a2"
      },
      "source": [
        "___"
      ]
    },
    {
      "cell_type": "markdown",
      "id": "56211333",
      "metadata": {
        "id": "56211333"
      },
      "source": [
        "## Задание 2: Распределение t-статистики\n",
        "### Используя метод Монте-Карло, постройте гистограмму распределения t-статистики для двух случаев:\n",
        "1. Выборки взяты из одного равномерного распределения с параметрами a = 400, b = 2000.\n",
        "2. Выборки взяты из разных нормальных распределений. Параметры распределений: mu_1 = 1210, sigma_1 = 500, mu_2 = 1200, sigma_2 = 350.\n",
        "\n",
        "Для построения гистограмы будет достаточно выборок объёмом в 10000 наблюдений каждая.\n",
        "\n",
        "Используйте функцию из задания 1"
      ]
    },
    {
      "cell_type": "markdown",
      "id": "6c60ab97",
      "metadata": {
        "id": "6c60ab97"
      },
      "source": [
        "___"
      ]
    },
    {
      "cell_type": "markdown",
      "id": "354c741b",
      "metadata": {
        "id": "354c741b"
      },
      "source": [
        "## Задание 3: Связь t-распределения стьюдента с нормальным распределением\n",
        "Распределение Стьюдента является однопараметрическим и зависит от n, числа случайных величин (т.е. от объёма выборки). Для случая (1) из задания 2 постройте несколько разных распределений t-статистики для выборок объёма 50, 1000 и 10000 элементов. Сравните полученные распределения с нормальным распределением, какими параметрами оно должно обладать?\n",
        "\n",
        "Для расчета t-статистики используйте функцию из задания 1"
      ]
    },
    {
      "cell_type": "markdown",
      "id": "de72b14b",
      "metadata": {
        "id": "de72b14b"
      },
      "source": [
        "___"
      ]
    },
    {
      "cell_type": "markdown",
      "id": "96e3eae2",
      "metadata": {
        "id": "96e3eae2"
      },
      "source": [
        "## Задание 4: Расчёт p-value на основе знания t-статистики\n",
        "Для случая (2) из задания 2 с выборками объёмом в 10000 элементов посчитайте значение t-статистики. Вычислите значение p-value для получившегося значения t-статистики.\n",
        "\n",
        "Добавьте в функцию реализации теста Уэлча из задания 1 расчёт p-value на основе рассчитанного значения t-статистики. Функция должна принимать на вход два массива, а возвращать значения t-статистики и p-value для двусторонней альтернативной гипотезы. Текстом напишите ответ на вопрос: как будет отличаться p-value для односторонней и двусторонней альтернативной гипотезы?"
      ]
    },
    {
      "cell_type": "markdown",
      "id": "9de4fc5a",
      "metadata": {
        "id": "9de4fc5a"
      },
      "source": [
        "___"
      ]
    },
    {
      "cell_type": "markdown",
      "id": "191dcf4a",
      "metadata": {
        "id": "191dcf4a"
      },
      "source": [
        "## Задание 5: Применение t_test_ind из scipy. Метод 1000 тестов.\n",
        "1. Для случаев (1) и (2) из задания 2 примените вашу функцию для вычисления результатов t-test и функцию ttest_ind из scipy. Сравните результаты.\n",
        "2. Для случая (1) из задания 2 примените метод Монте-Карло с имитацией 1000 А/А-тестов и постройте распределение p-value. Опишите, какое распределение вы получили?"
      ]
    },
    {
      "cell_type": "markdown",
      "id": "11524a91",
      "metadata": {
        "id": "11524a91"
      },
      "source": [
        "___"
      ]
    },
    {
      "cell_type": "markdown",
      "id": "8256813d",
      "metadata": {
        "id": "8256813d"
      },
      "source": [
        "## Задание 6: Мощность t-критерия. Построение кривых мощности.\n",
        "Наблюдения в двух выборках взяты из нормальных распределений с sigma = 400. Матожидание первой выборки равно 1200, а матожидание второй выборки изменяется относительно первого с некоторым шагом. Постройте кривую мощности для изменения матожидания c шагом от 0,5% до 5%."
      ]
    },
    {
      "cell_type": "markdown",
      "id": "b52ec810",
      "metadata": {
        "id": "b52ec810"
      },
      "source": [
        "___"
      ]
    },
    {
      "cell_type": "code",
      "execution_count": null,
      "id": "cd8eaa61",
      "metadata": {
        "id": "cd8eaa61"
      },
      "outputs": [],
      "source": []
    }
  ],
  "metadata": {
    "kernelspec": {
      "display_name": "Python 3 (ipykernel)",
      "language": "python",
      "name": "python3"
    },
    "language_info": {
      "codemirror_mode": {
        "name": "ipython",
        "version": 3
      },
      "file_extension": ".py",
      "mimetype": "text/x-python",
      "name": "python",
      "nbconvert_exporter": "python",
      "pygments_lexer": "ipython3",
      "version": "3.9.7"
    },
    "colab": {
      "provenance": [],
      "include_colab_link": true
    }
  },
  "nbformat": 4,
  "nbformat_minor": 5
}