{
  "cells": [
    {
      "cell_type": "markdown",
      "metadata": {
        "id": "view-in-github",
        "colab_type": "text"
      },
      "source": [
        "<a href=\"https://colab.research.google.com/github/Yukkitsune/TBank-Analytics/blob/main/Probability%20theory%20and%20mathematical%20statistics/homework2_statistics.ipynb\" target=\"_parent\"><img src=\"https://colab.research.google.com/assets/colab-badge.svg\" alt=\"Open In Colab\"/></a>"
      ]
    },
    {
      "cell_type": "code",
      "execution_count": 2,
      "id": "89cb2276",
      "metadata": {
        "id": "89cb2276"
      },
      "outputs": [],
      "source": [
        "import numpy as np\n",
        "from scipy.stats import ttest_ind, t\n",
        "import matplotlib.pyplot as plt\n",
        "from typing import List\n",
        "from math import sqrt"
      ]
    },
    {
      "cell_type": "code",
      "source": [
        "np.random.seed(42)"
      ],
      "metadata": {
        "id": "SPzxwSaOUmEo"
      },
      "id": "SPzxwSaOUmEo",
      "execution_count": 3,
      "outputs": []
    },
    {
      "cell_type": "markdown",
      "id": "c0d6ba17",
      "metadata": {
        "id": "c0d6ba17"
      },
      "source": [
        "___"
      ]
    },
    {
      "cell_type": "markdown",
      "id": "e1762c60",
      "metadata": {
        "id": "e1762c60"
      },
      "source": [
        "## Задание 1: t-test для независимых выборок (критерий Уэлча)\n",
        "### Реализуйте тест Уэлча на python.\n",
        "Для двух независимых выборок напишите функцию, которая возвращает значение t-статистики. Функция должна принимать на вход два массива, а возвращать значение t-статистики. В описании функции укажите статистическую гипотезу, для которой применяется критерий Уэлча.\n",
        "\n",
        "P.s. Использовать ttest_ind запрещено"
      ]
    },
    {
      "cell_type": "code",
      "source": [
        "def welchs_test (x1: List, x2: List) -> float:\n",
        "  '''\n",
        "  Реализует тест Уэлча для двух независимых выборок\n",
        "  Гипотезы:\n",
        "  - H0: m1 = m2 (равенство средних генеральных совокупностей)\n",
        "  - H1: m1 != m2 (неравенство средних генеральных совокупностей)\n",
        "  '''\n",
        "  first_mean = np.mean(x1)\n",
        "  second_mean = np.mean(x2)\n",
        "  first_std = np.std(x1, ddof=1)\n",
        "  second_std = np.std(x2, ddof=1)\n",
        "  numerator = first_mean - second_mean\n",
        "  denominator = sqrt(first_std**2 / len(x1) + second_std**2/len(x2))\n",
        "  return  numerator / denominator"
      ],
      "metadata": {
        "id": "ppZvjHk3Un8v"
      },
      "id": "ppZvjHk3Un8v",
      "execution_count": 4,
      "outputs": []
    },
    {
      "cell_type": "markdown",
      "source": [
        "Проверим корректность функции, сравнив её результат с ttest_ind"
      ],
      "metadata": {
        "id": "kVUjwKKhMD_0"
      },
      "id": "kVUjwKKhMD_0"
    },
    {
      "cell_type": "code",
      "source": [
        "x1 = np.random.uniform(low=400, high=2000, size=1000)\n",
        "x2 = np.random.uniform(low=400, high=2000, size=1000)"
      ],
      "metadata": {
        "id": "sCGNstWsJu7J"
      },
      "id": "sCGNstWsJu7J",
      "execution_count": 5,
      "outputs": []
    },
    {
      "cell_type": "code",
      "source": [
        "print(welchs_test(x1=x1,x2=x2))\n",
        "print(ttest_ind(a=x1, b=x2))"
      ],
      "metadata": {
        "colab": {
          "base_uri": "https://localhost:8080/"
        },
        "id": "RcEr0vmyKEfV",
        "outputId": "77151d58-34b0-4263-8b40-9b40d7e6df0c"
      },
      "id": "RcEr0vmyKEfV",
      "execution_count": 6,
      "outputs": [
        {
          "output_type": "stream",
          "name": "stdout",
          "text": [
            "-1.2827804972727095\n",
            "TtestResult(statistic=np.float64(-1.2827804972727093), pvalue=np.float64(0.1997177773782228), df=np.float64(1998.0))\n"
          ]
        }
      ]
    },
    {
      "cell_type": "markdown",
      "id": "0d1423a2",
      "metadata": {
        "id": "0d1423a2"
      },
      "source": [
        "___"
      ]
    },
    {
      "cell_type": "markdown",
      "id": "56211333",
      "metadata": {
        "id": "56211333"
      },
      "source": [
        "## Задание 2: Распределение t-статистики\n",
        "### Используя метод Монте-Карло, постройте гистограмму распределения t-статистики для двух случаев:\n",
        "1. Выборки взяты из одного равномерного распределения с параметрами a = 400, b = 2000.\n",
        "2. Выборки взяты из разных нормальных распределений. Параметры распределений: mu_1 = 1210, sigma_1 = 500, mu_2 = 1200, sigma_2 = 350.\n",
        "\n",
        "Для построения гистограмы будет достаточно выборок объёмом в 10000 наблюдений каждая.\n",
        "\n",
        "Используйте функцию из задания 1"
      ]
    },
    {
      "cell_type": "markdown",
      "source": [
        "1. Выборки взяты из одного равномерного распределения с параметрами a = 400, b = 2000."
      ],
      "metadata": {
        "id": "zicDvajSMXfK"
      },
      "id": "zicDvajSMXfK"
    },
    {
      "cell_type": "code",
      "source": [
        "def uniform_monte_carlo (a: int, b: int, size: int, iterations: int) -> List:\n",
        "  t_statistics = []\n",
        "  for _ in range (iterations):\n",
        "    X = np.random.uniform(low=a, high=b, size=size)\n",
        "    selection = np.array_split(X,2)\n",
        "    x1, x2 = selection[0], selection[1]\n",
        "    t_statistics.append(welchs_test(x1, x2))\n",
        "  return t_statistics"
      ],
      "metadata": {
        "id": "UmveTkgnSEhZ"
      },
      "id": "UmveTkgnSEhZ",
      "execution_count": 7,
      "outputs": []
    },
    {
      "cell_type": "code",
      "source": [
        "a, b = 400, 2000\n",
        "size = 20000\n",
        "iterations = 10000\n",
        "t_statistics_uniform = uniform_monte_carlo(a=a, b=b, size=size, iterations=iterations)"
      ],
      "metadata": {
        "id": "XQyH__UBMjm-"
      },
      "id": "XQyH__UBMjm-",
      "execution_count": 8,
      "outputs": []
    },
    {
      "cell_type": "code",
      "source": [
        "plt.hist(t_statistics_uniform, bins=100, edgecolor='black')"
      ],
      "metadata": {
        "colab": {
          "base_uri": "https://localhost:8080/",
          "height": 986
        },
        "collapsed": true,
        "id": "MSR_stJ4N9kq",
        "outputId": "591b1bae-24ec-43cf-9799-d440ace2535b"
      },
      "id": "MSR_stJ4N9kq",
      "execution_count": 9,
      "outputs": [
        {
          "output_type": "execute_result",
          "data": {
            "text/plain": [
              "(array([  3.,   1.,   2.,   3.,   2.,   1.,   2.,   4.,   3.,   7.,   4.,\n",
              "          4.,  10.,  18.,  15.,  16.,  19.,  19.,  30.,  33.,  28.,  32.,\n",
              "         52.,  50.,  61.,  71., 101.,  94.,  89.,  98., 116., 127., 131.,\n",
              "        166., 163., 181., 208., 203., 222., 231., 282., 240., 260., 285.,\n",
              "        290., 309., 311., 306., 294., 276., 293., 284., 265., 256., 281.,\n",
              "        259., 261., 229., 214., 232., 200., 189., 179., 134., 138., 114.,\n",
              "        134., 120.,  97.,  96.,  91.,  52.,  52.,  59.,  47.,  48.,  25.,\n",
              "         30.,  23.,  27.,  10.,  17.,  12.,  14.,   6.,  10.,   8.,   5.,\n",
              "          4.,   2.,   1.,   2.,   3.,   0.,   1.,   1.,   0.,   0.,   0.,\n",
              "          2.]),\n",
              " array([-3.56716915, -3.49351763, -3.4198661 , -3.34621457, -3.27256305,\n",
              "        -3.19891152, -3.12525999, -3.05160846, -2.97795694, -2.90430541,\n",
              "        -2.83065388, -2.75700236, -2.68335083, -2.6096993 , -2.53604777,\n",
              "        -2.46239625, -2.38874472, -2.31509319, -2.24144167, -2.16779014,\n",
              "        -2.09413861, -2.02048709, -1.94683556, -1.87318403, -1.7995325 ,\n",
              "        -1.72588098, -1.65222945, -1.57857792, -1.5049264 , -1.43127487,\n",
              "        -1.35762334, -1.28397181, -1.21032029, -1.13666876, -1.06301723,\n",
              "        -0.98936571, -0.91571418, -0.84206265, -0.76841112, -0.6947596 ,\n",
              "        -0.62110807, -0.54745654, -0.47380502, -0.40015349, -0.32650196,\n",
              "        -0.25285044, -0.17919891, -0.10554738, -0.03189585,  0.04175567,\n",
              "         0.1154072 ,  0.18905873,  0.26271025,  0.33636178,  0.41001331,\n",
              "         0.48366484,  0.55731636,  0.63096789,  0.70461942,  0.77827094,\n",
              "         0.85192247,  0.925574  ,  0.99922553,  1.07287705,  1.14652858,\n",
              "         1.22018011,  1.29383163,  1.36748316,  1.44113469,  1.51478621,\n",
              "         1.58843774,  1.66208927,  1.7357408 ,  1.80939232,  1.88304385,\n",
              "         1.95669538,  2.0303469 ,  2.10399843,  2.17764996,  2.25130149,\n",
              "         2.32495301,  2.39860454,  2.47225607,  2.54590759,  2.61955912,\n",
              "         2.69321065,  2.76686217,  2.8405137 ,  2.91416523,  2.98781676,\n",
              "         3.06146828,  3.13511981,  3.20877134,  3.28242286,  3.35607439,\n",
              "         3.42972592,  3.50337745,  3.57702897,  3.6506805 ,  3.72433203,\n",
              "         3.79798355]),\n",
              " <BarContainer object of 100 artists>)"
            ]
          },
          "metadata": {},
          "execution_count": 9
        },
        {
          "output_type": "display_data",
          "data": {
            "text/plain": [
              "<Figure size 640x480 with 1 Axes>"
            ],
            "image/png": "[encoded data removed]"
          },
          "metadata": {}
        }
      ]
    },
    {
      "cell_type": "markdown",
      "source": [
        "2. Выборки взяты из разных нормальных распределений. Параметры распределений: mu_1 = 1210, sigma_1 = 500, mu_2 = 1200, sigma_2 = 350."
      ],
      "metadata": {
        "id": "pQmjqyEpQoTk"
      },
      "id": "pQmjqyEpQoTk"
    },
    {
      "cell_type": "code",
      "source": [
        "def normal_monte_carlo_2_samples(mu_1:int, sigma_1:int, mu_2:int, sigma_2:int, size:int, iterations:int) -> List:\n",
        "  t_statistics = []\n",
        "  for _ in range(iterations):\n",
        "    x1 = np.random.normal(loc=mu_1, scale=sigma_1, size=size)\n",
        "    x2 = np.random.normal(loc=mu_2, scale=sigma_2, size=size)\n",
        "    t_statistics.append(welchs_test(x1, x2))\n",
        "  return t_statistics"
      ],
      "metadata": {
        "id": "LcTxdtBkS429"
      },
      "id": "LcTxdtBkS429",
      "execution_count": 10,
      "outputs": []
    },
    {
      "cell_type": "code",
      "source": [
        "mu_1, sigma_1 = 1210, 500\n",
        "mu_2, sigma_2 = 1200, 350\n",
        "size = 10000\n",
        "iterations = 10000\n",
        "t_statistics_normal = normal_monte_carlo_2_samples(mu_1=mu_1, sigma_1=sigma_1, mu_2=mu_2, sigma_2=sigma_2, size=size, iterations=iterations)"
      ],
      "metadata": {
        "id": "EoKvp_J8QrYt"
      },
      "id": "EoKvp_J8QrYt",
      "execution_count": 12,
      "outputs": []
    },
    {
      "cell_type": "code",
      "source": [
        "plt.hist(t_statistics_normal, bins=100, edgecolor='black')"
      ],
      "metadata": {
        "colab": {
          "base_uri": "https://localhost:8080/",
          "height": 986
        },
        "collapsed": true,
        "id": "aLYmqX6sRtZo",
        "outputId": "9e80334c-7357-41f1-d1aa-f05b1bdb2459"
      },
      "id": "aLYmqX6sRtZo",
      "execution_count": 13,
      "outputs": [
        {
          "output_type": "execute_result",
          "data": {
            "text/plain": [
              "(array([  2.,   2.,   0.,   2.,   1.,   1.,   3.,   1.,  10.,   7.,   7.,\n",
              "          4.,  11.,   9.,  16.,  15.,  26.,  15.,  20.,  33.,  37.,  54.,\n",
              "         53.,  71.,  72.,  76., 100., 124., 124., 142., 138., 158., 189.,\n",
              "        187., 192., 205., 243., 251., 275., 283., 293., 298., 322., 304.,\n",
              "        334., 314., 310., 303., 282., 339., 308., 308., 261., 261., 239.,\n",
              "        233., 223., 217., 178., 168., 157., 159., 135., 124.,  94.,  91.,\n",
              "         80.,  69.,  69.,  75.,  51.,  28.,  45.,  34.,  17.,  21.,  12.,\n",
              "         21.,  20.,  10.,   7.,   7.,   6.,   2.,   1.,   2.,   1.,   0.,\n",
              "          2.,   0.,   0.,   2.,   1.,   1.,   1.,   0.,   0.,   0.,   0.,\n",
              "          1.]),\n",
              " array([-2.01611173, -1.93647157, -1.85683142, -1.77719126, -1.69755111,\n",
              "        -1.61791095, -1.5382708 , -1.45863064, -1.37899048, -1.29935033,\n",
              "        -1.21971017, -1.14007002, -1.06042986, -0.98078971, -0.90114955,\n",
              "        -0.8215094 , -0.74186924, -0.66222909, -0.58258893, -0.50294878,\n",
              "        -0.42330862, -0.34366847, -0.26402831, -0.18438816, -0.104748  ,\n",
              "        -0.02510785,  0.05453231,  0.13417246,  0.21381262,  0.29345277,\n",
              "         0.37309293,  0.45273308,  0.53237324,  0.61201339,  0.69165355,\n",
              "         0.7712937 ,  0.85093386,  0.93057401,  1.01021417,  1.08985432,\n",
              "         1.16949448,  1.24913464,  1.32877479,  1.40841495,  1.4880551 ,\n",
              "         1.56769526,  1.64733541,  1.72697557,  1.80661572,  1.88625588,\n",
              "         1.96589603,  2.04553619,  2.12517634,  2.2048165 ,  2.28445665,\n",
              "         2.36409681,  2.44373696,  2.52337712,  2.60301727,  2.68265743,\n",
              "         2.76229758,  2.84193774,  2.92157789,  3.00121805,  3.0808582 ,\n",
              "         3.16049836,  3.24013851,  3.31977867,  3.39941882,  3.47905898,\n",
              "         3.55869913,  3.63833929,  3.71797944,  3.7976196 ,  3.87725975,\n",
              "         3.95689991,  4.03654007,  4.11618022,  4.19582038,  4.27546053,\n",
              "         4.35510069,  4.43474084,  4.514381  ,  4.59402115,  4.67366131,\n",
              "         4.75330146,  4.83294162,  4.91258177,  4.99222193,  5.07186208,\n",
              "         5.15150224,  5.23114239,  5.31078255,  5.3904227 ,  5.47006286,\n",
              "         5.54970301,  5.62934317,  5.70898332,  5.78862348,  5.86826363,\n",
              "         5.94790379]),\n",
              " <BarContainer object of 100 artists>)"
            ]
          },
          "metadata": {},
          "execution_count": 13
        },
        {
          "output_type": "display_data",
          "data": {
            "text/plain": [
              "<Figure size 640x480 with 1 Axes>"
            ],
            "image/png": "[encoded data removed]"
          },
          "metadata": {}
        }
      ]
    },
    {
      "cell_type": "markdown",
      "id": "6c60ab97",
      "metadata": {
        "id": "6c60ab97"
      },
      "source": [
        "___"
      ]
    },
    {
      "cell_type": "markdown",
      "id": "354c741b",
      "metadata": {
        "id": "354c741b"
      },
      "source": [
        "## Задание 3: Связь t-распределения стьюдента с нормальным распределением\n",
        "Распределение Стьюдента является однопараметрическим и зависит от n, числа случайных величин (т.е. от объёма выборки). Для случая (1) из задания 2 постройте несколько разных распределений t-статистики для выборок объёма 50, 1000 и 10000 элементов. Сравните полученные распределения с нормальным распределением, какими параметрами оно должно обладать?\n",
        "\n",
        "Для расчета t-статистики используйте функцию из задания 1"
      ]
    },
    {
      "cell_type": "code",
      "source": [
        "def compare_uniform_normal(t_uniform:List, t_normal:List):\n",
        "  fig, (ax1, ax2) = plt.subplots(1, 2, figsize=(15,6))\n",
        "  ax1.hist(t_uniform, bins=100, edgecolor='black')\n",
        "  ax1.set_xlabel('t-статистика')\n",
        "  ax1.grid(True)\n",
        "  ax2.hist(t_normal, bins=100, edgecolor='black')\n",
        "  ax2.set_xlabel('Нормальное распределение')\n",
        "  ax2.grid(True)\n",
        "  plt.show()"
      ],
      "metadata": {
        "id": "-qVgstxqVz7I"
      },
      "id": "-qVgstxqVz7I",
      "execution_count": 14,
      "outputs": []
    },
    {
      "cell_type": "code",
      "source": [
        "def normal_monte_carlo_1_sample(mu:int,sigma:int, size:int, iterations:int) -> List:\n",
        "  norm_dist=[]\n",
        "  for _ in range(iterations):\n",
        "    x = np.random.normal(loc=mu, scale=sigma, size=size)\n",
        "    norm_dist.append(x)\n",
        "  return norm_dist"
      ],
      "metadata": {
        "id": "NkwzPyoEXzu0"
      },
      "id": "NkwzPyoEXzu0",
      "execution_count": 15,
      "outputs": []
    },
    {
      "cell_type": "code",
      "source": [
        "a, b = 400, 2000\n",
        "size = 50\n",
        "iterations = 10000\n",
        "t_uniform_50 = uniform_monte_carlo(a=a, b=b, size=size, iterations=iterations)\n",
        "t_normal_50 = normal_monte_carlo_1_sample(mu=0, sigma=1, size=size, iterations=iterations)"
      ],
      "metadata": {
        "id": "aqREI0pnUKto"
      },
      "id": "aqREI0pnUKto",
      "execution_count": 16,
      "outputs": []
    },
    {
      "cell_type": "code",
      "source": [
        "compare_uniform_normal(t_uniform=t_uniform_50, t_normal=t_normal_50)"
      ],
      "metadata": {
        "id": "MVGphKhIT36_"
      },
      "id": "MVGphKhIT36_",
      "execution_count": null,
      "outputs": []
    },
    {
      "cell_type": "markdown",
      "id": "de72b14b",
      "metadata": {
        "id": "de72b14b"
      },
      "source": [
        "___"
      ]
    },
    {
      "cell_type": "markdown",
      "id": "96e3eae2",
      "metadata": {
        "id": "96e3eae2"
      },
      "source": [
        "## Задание 4: Расчёт p-value на основе знания t-статистики\n",
        "Для случая (2) из задания 2 с выборками объёмом в 10000 элементов посчитайте значение t-статистики. Вычислите значение p-value для получившегося значения t-статистики.\n",
        "\n",
        "Добавьте в функцию реализации теста Уэлча из задания 1 расчёт p-value на основе рассчитанного значения t-статистики. Функция должна принимать на вход два массива, а возвращать значения t-статистики и p-value для двусторонней альтернативной гипотезы. Текстом напишите ответ на вопрос: как будет отличаться p-value для односторонней и двусторонней альтернативной гипотезы?"
      ]
    },
    {
      "cell_type": "markdown",
      "id": "9de4fc5a",
      "metadata": {
        "id": "9de4fc5a"
      },
      "source": [
        "___"
      ]
    },
    {
      "cell_type": "markdown",
      "id": "191dcf4a",
      "metadata": {
        "id": "191dcf4a"
      },
      "source": [
        "## Задание 5: Применение t_test_ind из scipy. Метод 1000 тестов.\n",
        "1. Для случаев (1) и (2) из задания 2 примените вашу функцию для вычисления результатов t-test и функцию ttest_ind из scipy. Сравните результаты.\n",
        "2. Для случая (1) из задания 2 примените метод Монте-Карло с имитацией 1000 А/А-тестов и постройте распределение p-value. Опишите, какое распределение вы получили?"
      ]
    },
    {
      "cell_type": "markdown",
      "id": "11524a91",
      "metadata": {
        "id": "11524a91"
      },
      "source": [
        "___"
      ]
    },
    {
      "cell_type": "markdown",
      "id": "8256813d",
      "metadata": {
        "id": "8256813d"
      },
      "source": [
        "## Задание 6: Мощность t-критерия. Построение кривых мощности.\n",
        "Наблюдения в двух выборках взяты из нормальных распределений с sigma = 400. Матожидание первой выборки равно 1200, а матожидание второй выборки изменяется относительно первого с некоторым шагом. Постройте кривую мощности для изменения матожидания c шагом от 0,5% до 5%."
      ]
    },
    {
      "cell_type": "markdown",
      "id": "b52ec810",
      "metadata": {
        "id": "b52ec810"
      },
      "source": [
        "___"
      ]
    },
    {
      "cell_type": "code",
      "execution_count": null,
      "id": "cd8eaa61",
      "metadata": {
        "id": "cd8eaa61"
      },
      "outputs": [],
      "source": []
    }
  ],
  "metadata": {
    "kernelspec": {
      "display_name": "Python 3 (ipykernel)",
      "language": "python",
      "name": "python3"
    },
    "language_info": {
      "codemirror_mode": {
        "name": "ipython",
        "version": 3
      },
      "file_extension": ".py",
      "mimetype": "text/x-python",
      "name": "python",
      "nbconvert_exporter": "python",
      "pygments_lexer": "ipython3",
      "version": "3.9.7"
    },
    "colab": {
      "provenance": [],
      "include_colab_link": true
    }
  },
  "nbformat": 4,
  "nbformat_minor": 5
}