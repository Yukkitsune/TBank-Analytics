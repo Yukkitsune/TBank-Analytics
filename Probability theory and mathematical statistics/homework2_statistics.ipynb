{
  "cells": [
    {
      "cell_type": "markdown",
      "metadata": {
        "id": "view-in-github",
        "colab_type": "text"
      },
      "source": [
        "<a href=\"https://colab.research.google.com/github/Yukkitsune/TBank-Analytics/blob/main/Probability%20theory%20and%20mathematical%20statistics/homework2_statistics.ipynb\" target=\"_parent\"><img src=\"https://colab.research.google.com/assets/colab-badge.svg\" alt=\"Open In Colab\"/></a>"
      ]
    },
    {
      "cell_type": "code",
      "execution_count": 1,
      "id": "89cb2276",
      "metadata": {
        "id": "89cb2276"
      },
      "outputs": [],
      "source": [
        "import numpy as np\n",
        "from scipy.stats import ttest_ind, t\n",
        "import matplotlib.pyplot as plt\n",
        "from typing import List, Tuple\n",
        "from math import sqrt"
      ]
    },
    {
      "cell_type": "code",
      "execution_count": 2,
      "id": "SPzxwSaOUmEo",
      "metadata": {
        "id": "SPzxwSaOUmEo"
      },
      "outputs": [],
      "source": [
        "np.random.seed(42)"
      ]
    },
    {
      "cell_type": "markdown",
      "id": "c0d6ba17",
      "metadata": {
        "id": "c0d6ba17"
      },
      "source": [
        "___"
      ]
    },
    {
      "cell_type": "markdown",
      "id": "e1762c60",
      "metadata": {
        "id": "e1762c60"
      },
      "source": [
        "## Задание 1: t-test для независимых выборок (критерий Уэлча)\n",
        "### Реализуйте тест Уэлча на python.\n",
        "Для двух независимых выборок напишите функцию, которая возвращает значение t-статистики. Функция должна принимать на вход два массива, а возвращать значение t-статистики. В описании функции укажите статистическую гипотезу, для которой применяется критерий Уэлча.\n",
        "\n",
        "P.s. Использовать ttest_ind запрещено"
      ]
    },
    {
      "cell_type": "code",
      "execution_count": 3,
      "id": "ppZvjHk3Un8v",
      "metadata": {
        "id": "ppZvjHk3Un8v"
      },
      "outputs": [],
      "source": [
        "def welchs_test (x1: List, x2: List) -> float:\n",
        "  '''\n",
        "  Реализует тест Уэлча для двух независимых выборок\n",
        "  Гипотезы:\n",
        "  - H0: m1 = m2 (равенство средних генеральных совокупностей)\n",
        "  - H1: m1 != m2 (неравенство средних генеральных совокупностей)\n",
        "  '''\n",
        "  first_mean = np.mean(x1)\n",
        "  second_mean = np.mean(x2)\n",
        "  first_std = np.std(x1, ddof=1)\n",
        "  second_std = np.std(x2, ddof=1)\n",
        "  numerator = first_mean - second_mean\n",
        "  denominator = sqrt(first_std**2 / x1.size + second_std**2/x2.size)\n",
        "  return  numerator / denominator"
      ]
    },
    {
      "cell_type": "markdown",
      "id": "kVUjwKKhMD_0",
      "metadata": {
        "id": "kVUjwKKhMD_0"
      },
      "source": [
        "Проверим корректность функции, сравнив её результат с ttest_ind"
      ]
    },
    {
      "cell_type": "code",
      "execution_count": 4,
      "id": "sCGNstWsJu7J",
      "metadata": {
        "id": "sCGNstWsJu7J"
      },
      "outputs": [],
      "source": [
        "x1 = np.random.uniform(low=400, high=2000, size=1000)\n",
        "x2 = np.random.uniform(low=400, high=2000, size=1000)"
      ]
    },
    {
      "cell_type": "code",
      "execution_count": 5,
      "id": "RcEr0vmyKEfV",
      "metadata": {
        "colab": {
          "base_uri": "https://localhost:8080/"
        },
        "id": "RcEr0vmyKEfV",
        "outputId": "a778a98c-09be-44f9-d7cd-fae9c7ee5920"
      },
      "outputs": [
        {
          "output_type": "stream",
          "name": "stdout",
          "text": [
            "-1.2827804972727095\n",
            "TtestResult(statistic=np.float64(-1.2827804972727093), pvalue=np.float64(0.19971777738303223), df=np.float64(1997.9999354075085))\n"
          ]
        }
      ],
      "source": [
        "print(welchs_test(x1=x1,x2=x2))\n",
        "print(ttest_ind(a=x1, b=x2, equal_var=False))"
      ]
    },
    {
      "cell_type": "markdown",
      "id": "0d1423a2",
      "metadata": {
        "id": "0d1423a2"
      },
      "source": [
        "___"
      ]
    },
    {
      "cell_type": "markdown",
      "id": "56211333",
      "metadata": {
        "id": "56211333"
      },
      "source": [
        "## Задание 2: Распределение t-статистики\n",
        "### Используя метод Монте-Карло, постройте гистограмму распределения t-статистики для двух случаев:\n",
        "1. Выборки взяты из одного равномерного распределения с параметрами a = 400, b = 2000.\n",
        "2. Выборки взяты из разных нормальных распределений. Параметры распределений: mu_1 = 1210, sigma_1 = 500, mu_2 = 1200, sigma_2 = 350.\n",
        "\n",
        "Для построения гистограмы будет достаточно выборок объёмом в 10000 наблюдений каждая.\n",
        "\n",
        "Используйте функцию из задания 1"
      ]
    },
    {
      "cell_type": "markdown",
      "id": "zicDvajSMXfK",
      "metadata": {
        "id": "zicDvajSMXfK"
      },
      "source": [
        "1. Выборки взяты из одного равномерного распределения с параметрами a = 400, b = 2000."
      ]
    },
    {
      "cell_type": "code",
      "execution_count": 6,
      "id": "UmveTkgnSEhZ",
      "metadata": {
        "id": "UmveTkgnSEhZ"
      },
      "outputs": [],
      "source": [
        "def uniform_monte_carlo (a: int, b: int, size: int, iterations: int) -> List:\n",
        "  t_statistics = []\n",
        "  for _ in range (iterations):\n",
        "    X = np.random.uniform(low=a, high=b, size=size)\n",
        "    selection = np.array_split(X,2)\n",
        "    x1, x2 = selection[0], selection[1]\n",
        "    t_statistics.append(welchs_test(x1, x2))\n",
        "  return t_statistics"
      ]
    },
    {
      "cell_type": "code",
      "execution_count": 7,
      "id": "XQyH__UBMjm-",
      "metadata": {
        "id": "XQyH__UBMjm-"
      },
      "outputs": [],
      "source": [
        "a, b = 400, 2000\n",
        "size = 20000\n",
        "iterations = 10000\n",
        "t_statistics_uniform = uniform_monte_carlo(a=a, b=b, size=size, iterations=iterations)"
      ]
    },
    {
      "cell_type": "code",
      "execution_count": 8,
      "id": "MSR_stJ4N9kq",
      "metadata": {
        "colab": {
          "base_uri": "https://localhost:8080/",
          "height": 986
        },
        "collapsed": true,
        "id": "MSR_stJ4N9kq",
        "outputId": "5c990988-6dab-456d-877c-1cc5ff80aafa"
      },
      "outputs": [
        {
          "output_type": "execute_result",
          "data": {
            "text/plain": [
              "(array([  3.,   1.,   2.,   3.,   2.,   1.,   2.,   4.,   3.,   7.,   4.,\n",
              "          4.,  10.,  18.,  15.,  16.,  19.,  19.,  30.,  33.,  28.,  32.,\n",
              "         52.,  50.,  61.,  71., 101.,  94.,  89.,  98., 116., 127., 131.,\n",
              "        166., 163., 181., 208., 203., 222., 231., 282., 240., 260., 285.,\n",
              "        290., 309., 311., 306., 294., 276., 293., 284., 265., 256., 281.,\n",
              "        259., 261., 229., 214., 232., 200., 189., 179., 134., 138., 114.,\n",
              "        134., 120.,  97.,  96.,  91.,  52.,  52.,  59.,  47.,  48.,  25.,\n",
              "         30.,  23.,  27.,  10.,  17.,  12.,  14.,   6.,  10.,   8.,   5.,\n",
              "          4.,   2.,   1.,   2.,   3.,   0.,   1.,   1.,   0.,   0.,   0.,\n",
              "          2.]),\n",
              " array([-3.56716915, -3.49351763, -3.4198661 , -3.34621457, -3.27256305,\n",
              "        -3.19891152, -3.12525999, -3.05160846, -2.97795694, -2.90430541,\n",
              "        -2.83065388, -2.75700236, -2.68335083, -2.6096993 , -2.53604777,\n",
              "        -2.46239625, -2.38874472, -2.31509319, -2.24144167, -2.16779014,\n",
              "        -2.09413861, -2.02048709, -1.94683556, -1.87318403, -1.7995325 ,\n",
              "        -1.72588098, -1.65222945, -1.57857792, -1.5049264 , -1.43127487,\n",
              "        -1.35762334, -1.28397181, -1.21032029, -1.13666876, -1.06301723,\n",
              "        -0.98936571, -0.91571418, -0.84206265, -0.76841112, -0.6947596 ,\n",
              "        -0.62110807, -0.54745654, -0.47380502, -0.40015349, -0.32650196,\n",
              "        -0.25285044, -0.17919891, -0.10554738, -0.03189585,  0.04175567,\n",
              "         0.1154072 ,  0.18905873,  0.26271025,  0.33636178,  0.41001331,\n",
              "         0.48366484,  0.55731636,  0.63096789,  0.70461942,  0.77827094,\n",
              "         0.85192247,  0.925574  ,  0.99922553,  1.07287705,  1.14652858,\n",
              "         1.22018011,  1.29383163,  1.36748316,  1.44113469,  1.51478621,\n",
              "         1.58843774,  1.66208927,  1.7357408 ,  1.80939232,  1.88304385,\n",
              "         1.95669538,  2.0303469 ,  2.10399843,  2.17764996,  2.25130149,\n",
              "         2.32495301,  2.39860454,  2.47225607,  2.54590759,  2.61955912,\n",
              "         2.69321065,  2.76686217,  2.8405137 ,  2.91416523,  2.98781676,\n",
              "         3.06146828,  3.13511981,  3.20877134,  3.28242286,  3.35607439,\n",
              "         3.42972592,  3.50337745,  3.57702897,  3.6506805 ,  3.72433203,\n",
              "         3.79798355]),\n",
              " <BarContainer object of 100 artists>)"
            ]
          },
          "metadata": {},
          "execution_count": 8
        },
        {
          "output_type": "display_data",
          "data": {
            "text/plain": [
              "<Figure size 640x480 with 1 Axes>"
            ],
            "image/png": "[encoded data removed]"
          },
          "metadata": {}
        }
      ],
      "source": [
        "plt.hist(t_statistics_uniform, bins=100, edgecolor='black')"
      ]
    },
    {
      "cell_type": "markdown",
      "id": "pQmjqyEpQoTk",
      "metadata": {
        "id": "pQmjqyEpQoTk"
      },
      "source": [
        "2. Выборки взяты из разных нормальных распределений. Параметры распределений: mu_1 = 1210, sigma_1 = 500, mu_2 = 1200, sigma_2 = 350."
      ]
    },
    {
      "cell_type": "code",
      "execution_count": 9,
      "id": "LcTxdtBkS429",
      "metadata": {
        "id": "LcTxdtBkS429"
      },
      "outputs": [],
      "source": [
        "def normal_monte_carlo_2_samples(mu_1:int, sigma_1:int, mu_2:int, sigma_2:int, size:int, iterations:int) -> List:\n",
        "  t_statistics = []\n",
        "  for _ in range(iterations):\n",
        "    x1 = np.random.normal(loc=mu_1, scale=sigma_1, size=size)\n",
        "    x2 = np.random.normal(loc=mu_2, scale=sigma_2, size=size)\n",
        "    t_statistics.append(welchs_test(x1, x2))\n",
        "  return t_statistics"
      ]
    },
    {
      "cell_type": "code",
      "execution_count": 10,
      "id": "EoKvp_J8QrYt",
      "metadata": {
        "id": "EoKvp_J8QrYt"
      },
      "outputs": [],
      "source": [
        "mu_1, sigma_1 = 1210, 500\n",
        "mu_2, sigma_2 = 1200, 350\n",
        "size = 10000\n",
        "iterations = 10000\n",
        "t_statistics_normal = normal_monte_carlo_2_samples(mu_1=mu_1, sigma_1=sigma_1, mu_2=mu_2, sigma_2=sigma_2, size=size, iterations=iterations)"
      ]
    },
    {
      "cell_type": "code",
      "execution_count": 11,
      "id": "aLYmqX6sRtZo",
      "metadata": {
        "colab": {
          "base_uri": "https://localhost:8080/",
          "height": 986
        },
        "collapsed": true,
        "id": "aLYmqX6sRtZo",
        "outputId": "e8abd9e7-2ed6-4ecd-e4ac-d2d8bc03c213"
      },
      "outputs": [
        {
          "output_type": "execute_result",
          "data": {
            "text/plain": [
              "(array([  2.,   2.,   0.,   2.,   1.,   1.,   3.,   1.,  10.,   7.,   7.,\n",
              "          4.,  11.,   9.,  16.,  15.,  26.,  15.,  20.,  33.,  37.,  54.,\n",
              "         53.,  71.,  72.,  76., 100., 124., 124., 142., 138., 158., 189.,\n",
              "        187., 192., 205., 243., 251., 275., 283., 293., 298., 322., 304.,\n",
              "        334., 314., 310., 303., 282., 339., 308., 308., 261., 261., 239.,\n",
              "        233., 223., 217., 178., 168., 157., 159., 135., 124.,  94.,  91.,\n",
              "         80.,  69.,  69.,  75.,  51.,  28.,  45.,  34.,  17.,  21.,  12.,\n",
              "         21.,  20.,  10.,   7.,   7.,   6.,   2.,   1.,   2.,   1.,   0.,\n",
              "          2.,   0.,   0.,   2.,   1.,   1.,   1.,   0.,   0.,   0.,   0.,\n",
              "          1.]),\n",
              " array([-2.01611173, -1.93647157, -1.85683142, -1.77719126, -1.69755111,\n",
              "        -1.61791095, -1.5382708 , -1.45863064, -1.37899048, -1.29935033,\n",
              "        -1.21971017, -1.14007002, -1.06042986, -0.98078971, -0.90114955,\n",
              "        -0.8215094 , -0.74186924, -0.66222909, -0.58258893, -0.50294878,\n",
              "        -0.42330862, -0.34366847, -0.26402831, -0.18438816, -0.104748  ,\n",
              "        -0.02510785,  0.05453231,  0.13417246,  0.21381262,  0.29345277,\n",
              "         0.37309293,  0.45273308,  0.53237324,  0.61201339,  0.69165355,\n",
              "         0.7712937 ,  0.85093386,  0.93057401,  1.01021417,  1.08985432,\n",
              "         1.16949448,  1.24913464,  1.32877479,  1.40841495,  1.4880551 ,\n",
              "         1.56769526,  1.64733541,  1.72697557,  1.80661572,  1.88625588,\n",
              "         1.96589603,  2.04553619,  2.12517634,  2.2048165 ,  2.28445665,\n",
              "         2.36409681,  2.44373696,  2.52337712,  2.60301727,  2.68265743,\n",
              "         2.76229758,  2.84193774,  2.92157789,  3.00121805,  3.0808582 ,\n",
              "         3.16049836,  3.24013851,  3.31977867,  3.39941882,  3.47905898,\n",
              "         3.55869913,  3.63833929,  3.71797944,  3.7976196 ,  3.87725975,\n",
              "         3.95689991,  4.03654007,  4.11618022,  4.19582038,  4.27546053,\n",
              "         4.35510069,  4.43474084,  4.514381  ,  4.59402115,  4.67366131,\n",
              "         4.75330146,  4.83294162,  4.91258177,  4.99222193,  5.07186208,\n",
              "         5.15150224,  5.23114239,  5.31078255,  5.3904227 ,  5.47006286,\n",
              "         5.54970301,  5.62934317,  5.70898332,  5.78862348,  5.86826363,\n",
              "         5.94790379]),\n",
              " <BarContainer object of 100 artists>)"
            ]
          },
          "metadata": {},
          "execution_count": 11
        },
        {
          "output_type": "display_data",
          "data": {
            "text/plain": [
              "<Figure size 640x480 with 1 Axes>"
            ],
            "image/png": "[encoded data removed]"
          },
          "metadata": {}
        }
      ],
      "source": [
        "plt.hist(t_statistics_normal, bins=100, edgecolor='black')"
      ]
    },
    {
      "cell_type": "markdown",
      "id": "6c60ab97",
      "metadata": {
        "id": "6c60ab97"
      },
      "source": [
        "___"
      ]
    },
    {
      "cell_type": "markdown",
      "id": "354c741b",
      "metadata": {
        "id": "354c741b"
      },
      "source": [
        "## Задание 3: Связь t-распределения стьюдента с нормальным распределением\n",
        "Распределение Стьюдента является однопараметрическим и зависит от n, числа случайных величин (т.е. от объёма выборки). Для случая (1) из задания 2 постройте несколько разных распределений t-статистики для выборок объёма 50, 1000 и 10000 элементов. Сравните полученные распределения с нормальным распределением, какими параметрами оно должно обладать?\n",
        "\n",
        "Для расчета t-статистики используйте функцию из задания 1"
      ]
    },
    {
      "cell_type": "code",
      "execution_count": 12,
      "id": "-qVgstxqVz7I",
      "metadata": {
        "id": "-qVgstxqVz7I"
      },
      "outputs": [],
      "source": [
        "def compare_uniform_normal(t_uniform:List, t_normal:List):\n",
        "  fig, (ax1, ax2) = plt.subplots(1, 2, figsize=(15,6))\n",
        "  ax1.hist(t_uniform, bins=100, edgecolor='black')\n",
        "  ax1.set_xlabel('t-статистика')\n",
        "  ax1.grid(True)\n",
        "  ax2.hist(t_normal, bins=100, edgecolor='black')\n",
        "  ax2.set_xlabel('Нормальное распределение')\n",
        "  ax2.grid(True)\n",
        "  plt.show()"
      ]
    },
    {
      "cell_type": "code",
      "source": [
        "norm_dist = np.random.normal(loc=0, scale=1, size=10000)"
      ],
      "metadata": {
        "id": "2FBIZgsN8wnJ"
      },
      "id": "2FBIZgsN8wnJ",
      "execution_count": 13,
      "outputs": []
    },
    {
      "cell_type": "code",
      "execution_count": 14,
      "id": "aqREI0pnUKto",
      "metadata": {
        "id": "aqREI0pnUKto"
      },
      "outputs": [],
      "source": [
        "a, b = 400, 2000\n",
        "size = 50\n",
        "iterations = 10000\n",
        "t_uniform_50 = uniform_monte_carlo(a=a, b=b, size=size, iterations=iterations)"
      ]
    },
    {
      "cell_type": "code",
      "execution_count": 15,
      "id": "MVGphKhIT36_",
      "metadata": {
        "colab": {
          "base_uri": "https://localhost:8080/",
          "height": 542
        },
        "id": "MVGphKhIT36_",
        "outputId": "2d1612ee-647a-4edf-c7e9-fe97423a05a2"
      },
      "outputs": [
        {
          "output_type": "display_data",
          "data": {
            "text/plain": [
              "<Figure size 1500x600 with 2 Axes>"
            ],
            "image/png": "[encoded data removed]"
          },
          "metadata": {}
        }
      ],
      "source": [
        "compare_uniform_normal(t_uniform=t_uniform_50, t_normal=norm_dist)"
      ]
    },
    {
      "cell_type": "code",
      "source": [
        "a, b = 400, 2000\n",
        "size = 1000\n",
        "iterations = 10000\n",
        "t_uniform_1000 = uniform_monte_carlo(a=a, b=b, size=size, iterations=iterations)"
      ],
      "metadata": {
        "id": "s3aQR7hn-FaB"
      },
      "id": "s3aQR7hn-FaB",
      "execution_count": 16,
      "outputs": []
    },
    {
      "cell_type": "code",
      "source": [
        "compare_uniform_normal(t_uniform=t_uniform_1000, t_normal=norm_dist)"
      ],
      "metadata": {
        "colab": {
          "base_uri": "https://localhost:8080/",
          "height": 542
        },
        "id": "-lcZo3Ja-PkE",
        "outputId": "6ea2f024-bf70-4a97-fedb-5653b0951bf9"
      },
      "id": "-lcZo3Ja-PkE",
      "execution_count": 17,
      "outputs": [
        {
          "output_type": "display_data",
          "data": {
            "text/plain": [
              "<Figure size 1500x600 with 2 Axes>"
            ],
            "image/png": "[encoded data removed]"
          },
          "metadata": {}
        }
      ]
    },
    {
      "cell_type": "code",
      "source": [
        "a, b = 400, 2000\n",
        "size = 10000\n",
        "iterations = 10000\n",
        "t_uniform_10000 = uniform_monte_carlo(a=a, b=b, size=size, iterations=iterations)"
      ],
      "metadata": {
        "id": "UvM6_MYX-U6U"
      },
      "id": "UvM6_MYX-U6U",
      "execution_count": 18,
      "outputs": []
    },
    {
      "cell_type": "code",
      "source": [
        "compare_uniform_normal(t_uniform=t_uniform_10000, t_normal=norm_dist)"
      ],
      "metadata": {
        "colab": {
          "base_uri": "https://localhost:8080/",
          "height": 542
        },
        "id": "g78z-ugc-YWe",
        "outputId": "cf9b4001-b70a-4d32-a016-9020ffb4bd37"
      },
      "id": "g78z-ugc-YWe",
      "execution_count": 19,
      "outputs": [
        {
          "output_type": "display_data",
          "data": {
            "text/plain": [
              "<Figure size 1500x600 with 2 Axes>"
            ],
            "image/png": "[encoded data removed]"
          },
          "metadata": {}
        }
      ]
    },
    {
      "cell_type": "markdown",
      "source": [
        "**Сравните полученные распределения с нормальным распределением, какими параметрами оно должно обладать?**"
      ],
      "metadata": {
        "id": "tMGNAi6K-uEn"
      },
      "id": "tMGNAi6K-uEn"
    },
    {
      "cell_type": "markdown",
      "source": [
        "Для того, чтобы полученное распределение было похоже на нормальное необходимо, чтобы его матожидание было близко к нулю, дисперсия была равна единице, оно должно быть симметрично и должен отсутствовать тяжелый хвост. Все эти параметры, как можно увидеть из формулировки задания, зависят от объема выборки - чем он больше, тем больше распределение t-статистик похоже на нормальное."
      ],
      "metadata": {
        "id": "V3gxam44-vMa"
      },
      "id": "V3gxam44-vMa"
    },
    {
      "cell_type": "markdown",
      "id": "de72b14b",
      "metadata": {
        "id": "de72b14b"
      },
      "source": [
        "___"
      ]
    },
    {
      "cell_type": "markdown",
      "id": "96e3eae2",
      "metadata": {
        "id": "96e3eae2"
      },
      "source": [
        "## Задание 4: Расчёт p-value на основе знания t-статистики\n",
        "Для случая (2) из задания 2 с выборками объёмом в 10000 элементов посчитайте значение t-статистики. Вычислите значение p-value для получившегося значения t-статистики.\n",
        "\n",
        "Добавьте в функцию реализации теста Уэлча из задания 1 расчёт p-value на основе рассчитанного значения t-статистики. Функция должна принимать на вход два массива, а возвращать значения t-статистики и p-value для двусторонней альтернативной гипотезы. Текстом напишите ответ на вопрос: как будет отличаться p-value для односторонней и двусторонней альтернативной гипотезы?"
      ]
    },
    {
      "cell_type": "code",
      "execution_count": 20,
      "metadata": {
        "id": "EhRyFHMsBZKx"
      },
      "outputs": [],
      "source": [
        "def welchs_test_pvalue (x1: List, x2: List) -> Tuple[float, float]:\n",
        "  '''\n",
        "  Реализует тест Уэлча для двух независимых выборок с вычислением p_value\n",
        "  Гипотезы:\n",
        "  - H0: m1 = m2 (равенство средних генеральных совокупностей)\n",
        "  - H1: m1 != m2 (неравенство средних генеральных совокупностей)\n",
        "  '''\n",
        "  #Рассчитаем t-статистику\n",
        "  x1 = np.array(x1)\n",
        "  x2 = np.array(x2)\n",
        "  first_mean = np.mean(x1)\n",
        "  second_mean = np.mean(x2)\n",
        "  first_std = np.std(x1, ddof=1)\n",
        "  second_std = np.std(x2, ddof=1)\n",
        "  numerator = first_mean - second_mean\n",
        "  denominator = sqrt(first_std**2 / x1.size + second_std**2/x2.size)\n",
        "  t_statistic = numerator / denominator\n",
        "\n",
        "  #Рассчитаем степени свободы, затем найдем p_value\n",
        "  n1 = x1.size\n",
        "  n2 = x2.size\n",
        "  df_numerator = (first_std**2 / n1 + second_std**2 / n2)**2\n",
        "  df_denominator = (first_std**4 / (n1**2 * (n1 - 1)) + second_std**4 / (n2**2 * (n2 - 1)))\n",
        "  df = df_numerator / df_denominator\n",
        "  p_value = 2 * (1 - t.cdf(np.abs(t_statistic), df))\n",
        "\n",
        "  print(f'statistic = {t_statistic}, p_value = {p_value}')\n",
        "  return t_statistic, p_value"
      ],
      "id": "EhRyFHMsBZKx"
    },
    {
      "cell_type": "markdown",
      "metadata": {
        "id": "gk0VOytlBZKy"
      },
      "source": [
        "Проверим корректность функции, сравнив её результат с ttest_ind"
      ],
      "id": "gk0VOytlBZKy"
    },
    {
      "cell_type": "code",
      "execution_count": 21,
      "metadata": {
        "id": "mgzVbxzSBZKy"
      },
      "outputs": [],
      "source": [
        "x1 = np.random.uniform(low=400, high=2000, size=1000)\n",
        "x2 = np.random.uniform(low=400, high=2000, size=1000)"
      ],
      "id": "mgzVbxzSBZKy"
    },
    {
      "cell_type": "code",
      "execution_count": 22,
      "metadata": {
        "colab": {
          "base_uri": "https://localhost:8080/"
        },
        "outputId": "9b59f99f-96f8-494b-fb7f-1b9183eafcca",
        "id": "bhtThuB3BZKy"
      },
      "outputs": [
        {
          "output_type": "stream",
          "name": "stdout",
          "text": [
            "statistic = -0.17923786594545174, p_value = 0.8577691457220076\n",
            "TtestResult(statistic=np.float64(-0.1792378659454517), pvalue=np.float64(0.8577691457220075), df=np.float64(1993.6530261684204))\n"
          ]
        }
      ],
      "source": [
        "t_stat, p_val = welchs_test_pvalue(x1=x1,x2=x2)\n",
        "print(ttest_ind(a=x1, b=x2, equal_var=False))"
      ],
      "id": "bhtThuB3BZKy"
    },
    {
      "cell_type": "markdown",
      "source": [
        "Для случая (2) из задания 2 с выборками объёмом в 10000 элементов посчитайте значение t-статистики. Вычислите значение p-value для получившегося значения t-статистики."
      ],
      "metadata": {
        "id": "MCnDkCl9Igu4"
      },
      "id": "MCnDkCl9Igu4"
    },
    {
      "cell_type": "code",
      "source": [
        "mu_1, sigma_1 = 1210, 500\n",
        "mu_2, sigma_2 = 1200, 350\n",
        "size = 10000\n",
        "iterations = 10000\n",
        "x1 = np.random.normal(loc=mu_1, scale=sigma_1, size=size)\n",
        "x2 = np.random.normal(loc=mu_2, scale=sigma_2, size=size)"
      ],
      "metadata": {
        "id": "-VBUVOjwIirQ"
      },
      "id": "-VBUVOjwIirQ",
      "execution_count": 23,
      "outputs": []
    },
    {
      "cell_type": "code",
      "source": [
        "t_stat_norm, p_val_norm = welchs_test_pvalue(x1=x1, x2=x2)"
      ],
      "metadata": {
        "colab": {
          "base_uri": "https://localhost:8080/"
        },
        "id": "WgyMJVZ7IwNS",
        "outputId": "28ec6e5b-9b66-4711-8edc-41d10fdaa3d7"
      },
      "id": "WgyMJVZ7IwNS",
      "execution_count": 24,
      "outputs": [
        {
          "output_type": "stream",
          "name": "stdout",
          "text": [
            "statistic = 3.580715875743076, p_value = 0.00034355299939825557\n"
          ]
        }
      ]
    },
    {
      "cell_type": "markdown",
      "source": [
        "Текстом напишите ответ на вопрос: как будет отличаться p-value для односторонней и двусторонней альтернативной гипотезы?"
      ],
      "metadata": {
        "id": "AFVEwhGfJhV1"
      },
      "id": "AFVEwhGfJhV1"
    },
    {
      "cell_type": "markdown",
      "source": [
        "В случае двусторонней альтернативной гипотезы мы учитываем два хвоста распределения, то есть вероятность получить результат как больше, так и меньше ожидаемого -> учитываем удвоенное значение p_value -- p_value = 2*P(T >= abs(t))\n",
        "\n",
        "В случае односторонней гипотезы учитываем только один из хвостов распределения - левый или правый. Здесь p_value = P(T >= t) или P(T <= t).\n",
        "\n",
        "Кроме того, в случае двусторонней гипотезы мы учитываем, что abs(t) > a/2, где a - уровень значимости. В одностороннем случае тоже самое, только без модуля."
      ],
      "metadata": {
        "id": "c0ut_zR9JjdM"
      },
      "id": "c0ut_zR9JjdM"
    },
    {
      "cell_type": "markdown",
      "id": "9de4fc5a",
      "metadata": {
        "id": "9de4fc5a"
      },
      "source": [
        "___"
      ]
    },
    {
      "cell_type": "markdown",
      "id": "191dcf4a",
      "metadata": {
        "id": "191dcf4a"
      },
      "source": [
        "## Задание 5: Применение t_test_ind из scipy. Метод 1000 тестов.\n",
        "1. Для случаев (1) и (2) из задания 2 примените вашу функцию для вычисления результатов t-test и функцию ttest_ind из scipy. Сравните результаты.\n",
        "2. Для случая (1) из задания 2 примените метод Монте-Карло с имитацией 1000 А/А-тестов и постройте распределение p-value. Опишите, какое распределение вы получили?"
      ]
    },
    {
      "cell_type": "markdown",
      "source": [
        "Для случаев (1) и (2) из задания 2 примените вашу функцию для вычисления результатов t-test и функцию ttest_ind из scipy. Сравните результаты."
      ],
      "metadata": {
        "id": "txSBr6AoXr7X"
      },
      "id": "txSBr6AoXr7X"
    },
    {
      "cell_type": "code",
      "source": [
        "a, b = 400, 2000\n",
        "size = 20000\n",
        "iterations = 10000\n",
        "for _ in range (iterations):\n",
        "    X = np.random.uniform(low=a, high=b, size=size)\n",
        "    selection = np.array_split(X,2)\n",
        "    x1_uniform, x2_uniform = selection[0], selection[1]"
      ],
      "metadata": {
        "id": "YWU70M4zZNLT"
      },
      "id": "YWU70M4zZNLT",
      "execution_count": 25,
      "outputs": []
    },
    {
      "cell_type": "code",
      "source": [
        "mu_1, sigma_1 = 1210, 500\n",
        "mu_2, sigma_2 = 1200, 350\n",
        "size = 10000\n",
        "iterations = 10000\n",
        "for _ in range(iterations):\n",
        "    x1_normal = np.random.normal(loc=mu_1, scale=sigma_1, size=size)\n",
        "    x2_normal = np.random.normal(loc=mu_2, scale=sigma_2, size=size)"
      ],
      "metadata": {
        "id": "8MfBNWv1ZaI9"
      },
      "id": "8MfBNWv1ZaI9",
      "execution_count": 26,
      "outputs": []
    },
    {
      "cell_type": "markdown",
      "source": [
        "Случай для равномерного распределения"
      ],
      "metadata": {
        "id": "ug7_UbqZZcAE"
      },
      "id": "ug7_UbqZZcAE"
    },
    {
      "cell_type": "code",
      "source": [
        "t_stat_uniform, p_val_uniform = welchs_test_pvalue(x1=x1_uniform, x2=x2_uniform)\n",
        "t_stat_ind, pval_ind = ttest_ind(a=x1_uniform, b=x2_uniform, equal_var=False)\n",
        "print(f'Разница моей функции и ttest_ind')\n",
        "print(f't_statistic = {abs(t_stat_uniform - t_stat_ind)}')\n",
        "print(f'p_value = {abs(p_val_uniform - pval_ind)}')"
      ],
      "metadata": {
        "colab": {
          "base_uri": "https://localhost:8080/"
        },
        "id": "onzPFqmcZmoh",
        "outputId": "2be598f6-b8f8-4673-903e-ecf757a13afc"
      },
      "id": "onzPFqmcZmoh",
      "execution_count": 27,
      "outputs": [
        {
          "output_type": "stream",
          "name": "stdout",
          "text": [
            "statistic = -0.9665329575747187, p_value = 0.33378925203115717\n",
            "Разница моей функции и ttest_ind\n",
            "t_statistic = 0.0\n",
            "p_value = 1.2212453270876722e-15\n"
          ]
        }
      ]
    },
    {
      "cell_type": "markdown",
      "source": [
        "Случай для нормального распределения"
      ],
      "metadata": {
        "id": "4an5vcW7bXkZ"
      },
      "id": "4an5vcW7bXkZ"
    },
    {
      "cell_type": "code",
      "source": [
        "t_stat_normal, p_val_normal = welchs_test_pvalue(x1=x1_normal, x2=x2_normal)\n",
        "t_stat_ind, pval_ind = ttest_ind(a=x1_normal, b=x2_normal, equal_var=False)\n",
        "print(f'Разница моей функции и ttest_ind')\n",
        "print(f't_statistic = {abs(t_stat_normal - t_stat_ind)}')\n",
        "print(f'p_value = {abs(p_val_normal - pval_ind)}')"
      ],
      "metadata": {
        "colab": {
          "base_uri": "https://localhost:8080/"
        },
        "id": "YbSqZn8jbd6Q",
        "outputId": "79fa3f18-96cc-4afe-cc17-3f0cff113939"
      },
      "id": "YbSqZn8jbd6Q",
      "execution_count": 28,
      "outputs": [
        {
          "output_type": "stream",
          "name": "stdout",
          "text": [
            "statistic = 2.082556479960455, p_value = 0.0373057971578481\n",
            "Разница моей функции и ttest_ind\n",
            "t_statistic = 4.440892098500626e-16\n",
            "p_value = 6.245004513516506e-17\n"
          ]
        }
      ]
    },
    {
      "cell_type": "markdown",
      "source": [
        "Для случая (1) из задания 2 примените метод Монте-Карло с имитацией 1000 А/А-тестов и постройте распределение p-value. Опишите, какое распределение вы получили?"
      ],
      "metadata": {
        "id": "CJEubXHEb8-0"
      },
      "id": "CJEubXHEb8-0"
    },
    {
      "cell_type": "code",
      "source": [
        "def uniform_monte_carlo_pvalue (a: int, b: int, size: int, iterations: int) -> List:\n",
        "  p_values = []\n",
        "  for _ in range (iterations):\n",
        "    X = np.random.uniform(low=a, high=b, size=size)\n",
        "    selection = np.array_split(X,2)\n",
        "    x1, x2 = selection[0], selection[1]\n",
        "    p_values.append(welchs_test_pvalue(x1, x2)[1])\n",
        "  return p_values"
      ],
      "metadata": {
        "id": "mPcu1MM9b-Hb"
      },
      "id": "mPcu1MM9b-Hb",
      "execution_count": 29,
      "outputs": []
    },
    {
      "cell_type": "code",
      "source": [
        "def welchs_test_pvalue (x1: List, x2: List) -> Tuple[float, float]:\n",
        "  '''\n",
        "  Реализует тест Уэлча для двух независимых выборок с вычислением p_value\n",
        "  Гипотезы:\n",
        "  - H0: m1 = m2 (равенство средних генеральных совокупностей)\n",
        "  - H1: m1 != m2 (неравенство средних генеральных совокупностей)\n",
        "  '''\n",
        "  #Рассчитаем t-статистику\n",
        "  x1 = np.array(x1)\n",
        "  x2 = np.array(x2)\n",
        "  first_mean = np.mean(x1)\n",
        "  second_mean = np.mean(x2)\n",
        "  first_std = np.std(x1, ddof=1)\n",
        "  second_std = np.std(x2, ddof=1)\n",
        "  numerator = first_mean - second_mean\n",
        "  denominator = sqrt(first_std**2 / x1.size + second_std**2/x2.size)\n",
        "  t_statistic = numerator / denominator\n",
        "\n",
        "  #Рассчитаем степени свободы, затем найдем p_value\n",
        "  n1 = x1.size\n",
        "  n2 = x2.size\n",
        "  df_numerator = (first_std**2 / n1 + second_std**2 / n2)**2\n",
        "  df_denominator = (first_std**4 / (n1**2 * (n1 - 1)) + second_std**4 / (n2**2 * (n2 - 1)))\n",
        "  df = df_numerator / df_denominator\n",
        "  p_value = 2 * (1 - t.cdf(np.abs(t_statistic), df))\n",
        "\n",
        "  #print(f'statistic = {t_statistic}, p_value = {p_value}')\n",
        "  return t_statistic, p_value"
      ],
      "metadata": {
        "id": "FUHmC3Mpd7mV"
      },
      "id": "FUHmC3Mpd7mV",
      "execution_count": 30,
      "outputs": []
    },
    {
      "cell_type": "code",
      "source": [
        "a, b = 400, 2000\n",
        "size = 20000\n",
        "iterations = 1000\n",
        "p_value_uniform = uniform_monte_carlo_pvalue(a=a, b=b, size=size, iterations=iterations)"
      ],
      "metadata": {
        "id": "DBZtjRMgdYFo"
      },
      "id": "DBZtjRMgdYFo",
      "execution_count": 31,
      "outputs": []
    },
    {
      "cell_type": "code",
      "source": [
        "plt.hist(p_value_uniform, bins=100, edgecolor='black')"
      ],
      "metadata": {
        "colab": {
          "base_uri": "https://localhost:8080/",
          "height": 951
        },
        "id": "ss6AtqfacPmC",
        "outputId": "d8257823-8fb9-4f66-dcd0-00ecd14de1f0"
      },
      "id": "ss6AtqfacPmC",
      "execution_count": 32,
      "outputs": [
        {
          "output_type": "execute_result",
          "data": {
            "text/plain": [
              "(array([11., 14., 17.,  6., 13., 11.,  8.,  8., 12., 11., 10., 11., 14.,\n",
              "         7.,  8., 12.,  6., 10.,  7.,  9., 10.,  9., 10., 11., 11., 11.,\n",
              "        11.,  6.,  5., 12.,  9., 10., 13., 13.,  8., 11., 13.,  5., 12.,\n",
              "         7., 14., 15., 15., 13.,  7., 15., 11., 14.,  3., 15.,  5.,  8.,\n",
              "        14., 12., 10.,  9.,  6., 10., 12., 10., 11., 11.,  9., 10.,  5.,\n",
              "        12.,  4., 10., 12.,  8., 14., 15.,  8., 12., 11., 11., 14., 13.,\n",
              "        11.,  5.,  7., 10., 14., 11.,  6., 11.,  8.,  8., 14.,  8.,  8.,\n",
              "         4.,  9.,  7.,  9., 11.,  3., 10.,  8.,  8.]),\n",
              " array([0.00426894, 0.01422299, 0.02417704, 0.03413109, 0.04408514,\n",
              "        0.05403919, 0.06399324, 0.07394729, 0.08390134, 0.09385539,\n",
              "        0.10380944, 0.11376349, 0.12371754, 0.1336716 , 0.14362565,\n",
              "        0.1535797 , 0.16353375, 0.1734878 , 0.18344185, 0.1933959 ,\n",
              "        0.20334995, 0.213304  , 0.22325805, 0.2332121 , 0.24316615,\n",
              "        0.2531202 , 0.26307425, 0.27302831, 0.28298236, 0.29293641,\n",
              "        0.30289046, 0.31284451, 0.32279856, 0.33275261, 0.34270666,\n",
              "        0.35266071, 0.36261476, 0.37256881, 0.38252286, 0.39247691,\n",
              "        0.40243096, 0.41238502, 0.42233907, 0.43229312, 0.44224717,\n",
              "        0.45220122, 0.46215527, 0.47210932, 0.48206337, 0.49201742,\n",
              "        0.50197147, 0.51192552, 0.52187957, 0.53183362, 0.54178767,\n",
              "        0.55174173, 0.56169578, 0.57164983, 0.58160388, 0.59155793,\n",
              "        0.60151198, 0.61146603, 0.62142008, 0.63137413, 0.64132818,\n",
              "        0.65128223, 0.66123628, 0.67119033, 0.68114438, 0.69109844,\n",
              "        0.70105249, 0.71100654, 0.72096059, 0.73091464, 0.74086869,\n",
              "        0.75082274, 0.76077679, 0.77073084, 0.78068489, 0.79063894,\n",
              "        0.80059299, 0.81054704, 0.82050109, 0.83045515, 0.8404092 ,\n",
              "        0.85036325, 0.8603173 , 0.87027135, 0.8802254 , 0.89017945,\n",
              "        0.9001335 , 0.91008755, 0.9200416 , 0.92999565, 0.9399497 ,\n",
              "        0.94990375, 0.9598578 , 0.96981185, 0.97976591, 0.98971996,\n",
              "        0.99967401]),\n",
              " <BarContainer object of 100 artists>)"
            ]
          },
          "metadata": {},
          "execution_count": 32
        },
        {
          "output_type": "display_data",
          "data": {
            "text/plain": [
              "<Figure size 640x480 with 1 Axes>"
            ],
            "image/png": "[encoded data removed]"
          },
          "metadata": {}
        }
      ]
    },
    {
      "cell_type": "markdown",
      "source": [
        "Получили примерно равномерное распределение p_value"
      ],
      "metadata": {
        "id": "koH6YzAPfBND"
      },
      "id": "koH6YzAPfBND"
    },
    {
      "cell_type": "markdown",
      "id": "11524a91",
      "metadata": {
        "id": "11524a91"
      },
      "source": [
        "___"
      ]
    },
    {
      "cell_type": "markdown",
      "id": "8256813d",
      "metadata": {
        "id": "8256813d"
      },
      "source": [
        "## Задание 6: Мощность t-критерия. Построение кривых мощности.\n",
        "Наблюдения в двух выборках взяты из нормальных распределений с sigma = 400. Матожидание первой выборки равно 1200, а матожидание второй выборки изменяется относительно первого с некоторым шагом. Постройте кривую мощности для изменения матожидания c шагом от 0,5% до 5%."
      ]
    },
    {
      "cell_type": "markdown",
      "id": "b52ec810",
      "metadata": {
        "id": "b52ec810"
      },
      "source": [
        "___"
      ]
    },
    {
      "cell_type": "code",
      "execution_count": 33,
      "id": "cd8eaa61",
      "metadata": {
        "id": "cd8eaa61",
        "colab": {
          "base_uri": "https://localhost:8080/",
          "height": 447
        },
        "outputId": "694b5b5b-a3f8-4663-a0b8-52ef4053037a"
      },
      "outputs": [
        {
          "output_type": "execute_result",
          "data": {
            "text/plain": [
              "[<matplotlib.lines.Line2D at 0x7b02f68589e0>]"
            ]
          },
          "metadata": {},
          "execution_count": 33
        },
        {
          "output_type": "display_data",
          "data": {
            "text/plain": [
              "<Figure size 640x480 with 1 Axes>"
            ],
            "image/png": "[encoded data removed]"
          },
          "metadata": {}
        }
      ],
      "source": [
        "iterations = 100\n",
        "low_threshold = 0.005\n",
        "high_threshold = 0.05\n",
        "step = 0.001\n",
        "size = 100\n",
        "mu, sigma = 1200, 400\n",
        "alpha = 0.05\n",
        "\n",
        "multipliers = np.arange(low_threshold, high_threshold, step)\n",
        "points = []\n",
        "for multiplier in multipliers:\n",
        "  mu2 = mu * (1 + multiplier)\n",
        "  reject = 0\n",
        "  for _ in range(iterations):\n",
        "    x1_normal = np.random.normal(loc=mu, scale=sigma, size=size)\n",
        "    x2_normal = np.random.normal(loc=mu2, scale=sigma, size=size)\n",
        "    t_stat, p_value = welchs_test_pvalue(x1=x1_normal, x2=x2_normal)\n",
        "    if p_value < alpha:\n",
        "      reject +=1\n",
        "  point = reject / iterations\n",
        "  points.append(point)\n",
        "\n",
        "plt.plot(multipliers, points)"
      ]
    }
  ],
  "metadata": {
    "colab": {
      "provenance": [],
      "include_colab_link": true
    },
    "kernelspec": {
      "display_name": "Python 3 (ipykernel)",
      "language": "python",
      "name": "python3"
    },
    "language_info": {
      "codemirror_mode": {
        "name": "ipython",
        "version": 3
      },
      "file_extension": ".py",
      "mimetype": "text/x-python",
      "name": "python",
      "nbconvert_exporter": "python",
      "pygments_lexer": "ipython3",
      "version": "3.9.7"
    }
  },
  "nbformat": 4,
  "nbformat_minor": 5
}