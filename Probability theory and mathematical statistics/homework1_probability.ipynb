{
  "cells": [
    {
      "cell_type": "markdown",
      "metadata": {
        "id": "view-in-github",
        "colab_type": "text"
      },
      "source": [
        "<a href=\"https://colab.research.google.com/github/Yukkitsune/TBank-Analytics/blob/main/Probability%20theory%20and%20mathematical%20statistics/homework1_probability.ipynb\" target=\"_parent\"><img src=\"https://colab.research.google.com/assets/colab-badge.svg\" alt=\"Open In Colab\"/></a>"
      ]
    },
    {
      "cell_type": "markdown",
      "source": [
        "Ссылка на датасет:\n",
        "https://drive.google.com/file/d/1XB_yieTBz0aoJLbmT51w7MiHbk3J0rRo/view?usp=sharing"
      ],
      "metadata": {
        "id": "oJRfhzPFo_CS"
      },
      "id": "oJRfhzPFo_CS"
    },
    {
      "cell_type": "code",
      "source": [
        "!gdown 1XB_yieTBz0aoJLbmT51w7MiHbk3J0rRo"
      ],
      "metadata": {
        "colab": {
          "base_uri": "https://localhost:8080/"
        },
        "id": "NMImDMCjpVxN",
        "outputId": "ff1dea35-0cd4-42ec-dbb6-8382aa5baf87"
      },
      "id": "NMImDMCjpVxN",
      "execution_count": 1,
      "outputs": [
        {
          "output_type": "stream",
          "name": "stdout",
          "text": [
            "Downloading...\n",
            "From: https://drive.google.com/uc?id=1XB_yieTBz0aoJLbmT51w7MiHbk3J0rRo\n",
            "To: /content/spam_classes.csv\n",
            "\r  0% 0.00/1.13k [00:00<?, ?B/s]\r100% 1.13k/1.13k [00:00<00:00, 3.96MB/s]\n"
          ]
        }
      ]
    },
    {
      "cell_type": "code",
      "execution_count": 2,
      "id": "77981369",
      "metadata": {
        "id": "77981369"
      },
      "outputs": [],
      "source": [
        "import random\n",
        "import numpy as np\n",
        "import pandas as pd\n",
        "import seaborn as sns\n",
        "from scipy.stats import binom, poisson, expon, norm, uniform, weibull_min, mode"
      ]
    },
    {
      "cell_type": "markdown",
      "id": "2e57844f",
      "metadata": {
        "id": "2e57844f"
      },
      "source": [
        "___"
      ]
    },
    {
      "cell_type": "markdown",
      "id": "5e803228",
      "metadata": {
        "id": "5e803228"
      },
      "source": [
        "## Задание 1: Визуальный анализ распределений случайных величин\n",
        "### Постройте гистограмы для следующих распределений:\n",
        "1. Равномерное с параметрами (0, 1)\n",
        "2. Нормальное распределение с параметрами mu=0, sigma=1\n",
        "3. Распределение Вейбулла с x = 10, c = 7 (взять функцию weibull_min из scipy.stats)"
      ]
    },
    {
      "cell_type": "markdown",
      "id": "0f980c47",
      "metadata": {
        "id": "0f980c47"
      },
      "source": [
        "___"
      ]
    },
    {
      "cell_type": "code",
      "execution_count": null,
      "id": "2565ede3",
      "metadata": {
        "id": "2565ede3"
      },
      "outputs": [],
      "source": []
    },
    {
      "cell_type": "markdown",
      "id": "e840603a",
      "metadata": {
        "id": "e840603a"
      },
      "source": [
        "## Задание 2: Свойства нормального распределения\n",
        "### Случайная величина имеет нормальное распределение с параметрами mu = 10, sigma = 2.\n",
        "1. Дайте текстовый ответ, что такое \"Правило трёх сигм\"?\n",
        "2. Рассчитайте вероятность того, что случайная величина примет значение больше 16. (Поможет метод cdf)\n",
        "3. Какому значению случайной величины соответствует 5-й персентиль функции распределения? (Поможет метод ppf)\n",
        "4. Рассчитайте точную оценку вероятности того, что случайная величина из нормального распределения с такими параметрами не отклонится от математического ожидания больше чем на 2 сигмы. А на 1 сигму?"
      ]
    },
    {
      "cell_type": "markdown",
      "id": "a506eaad",
      "metadata": {
        "id": "a506eaad"
      },
      "source": [
        "___"
      ]
    },
    {
      "cell_type": "code",
      "execution_count": null,
      "id": "4bda911c",
      "metadata": {
        "id": "4bda911c"
      },
      "outputs": [],
      "source": []
    },
    {
      "cell_type": "markdown",
      "id": "6fc025bf",
      "metadata": {
        "id": "6fc025bf"
      },
      "source": [
        "## Задание 3: Зависимые случайные величины\n",
        "### Что такое зависимые случайные величины, дайте развёрнутый текстовый ответ?\n",
        "\n",
        "Пусть имеется случайная величина ${X}$ из равномерного распределения с параметрами (0, 1). Вторая случайная величина, ${Y}$, получена путём возведения первой в квадрат и прибавления единицы. Будут ли эти случайные величины зависимы? С помощью какой статистики можно оценить \"меру зависимости\" двух этих случайных величин?\n",
        "\n",
        "Рассмотрим случайную величину ${X + Y}$. Напишите формулы, по которым считаются математическое ожидание и дисперсия для суммы зависимых случаных величин. Рассчитайте математическое ожидание и диспресию случайной величины ${X + Y}$, сгенерировав распределения ${X}$ и ${Y}$. Достаточно будет 1000 наблюдений."
      ]
    },
    {
      "cell_type": "markdown",
      "id": "5bdbe528",
      "metadata": {
        "id": "5bdbe528"
      },
      "source": [
        "___"
      ]
    },
    {
      "cell_type": "code",
      "execution_count": null,
      "id": "ffdc58cd",
      "metadata": {
        "id": "ffdc58cd"
      },
      "outputs": [],
      "source": []
    },
    {
      "cell_type": "markdown",
      "id": "589a2aa2",
      "metadata": {
        "id": "589a2aa2"
      },
      "source": [
        "## Задание 4: Детектор спама\n",
        "\n",
        "В таблице `spam_classes.csv` представлены результаты классификации 100 писем, полученных от пользователей. В столбце `is_spam` указано, является ли письмо спамом, а в столбце `marked_spam` — результат работы классификатора.\n",
        "\n",
        "Задача:\n",
        "1. Оцените с помощью формулы Байеса вероятность того, что письмо, классифицированное как спам, действительно является спамом. Вероятности, необходимые для применения формулы, рассчитайте по данным в DataFrame\n",
        "2. С помощью DataFrame посчитайте фактическую вероятность того, что письмо, классифицированное как спам, действительно является спамом.\n"
      ]
    },
    {
      "cell_type": "markdown",
      "id": "ebfa4ccf",
      "metadata": {
        "id": "ebfa4ccf"
      },
      "source": [
        "___"
      ]
    },
    {
      "cell_type": "code",
      "execution_count": 3,
      "id": "c11ae494",
      "metadata": {
        "colab": {
          "base_uri": "https://localhost:8080/",
          "height": 206
        },
        "id": "c11ae494",
        "outputId": "4946c188-224a-4bdc-eb5d-4d959cba5aaf"
      },
      "outputs": [
        {
          "output_type": "execute_result",
          "data": {
            "text/plain": [
              "   is_spam  marked_spam\n",
              "0     True         True\n",
              "1    False         True\n",
              "2    False        False\n",
              "3    False        False\n",
              "4     True        False"
            ],
            "text/html": [
              "\n",
              "  <div id=\"df-27fa95e9-77d8-45f9-9b95-9e0d1c45ffc3\" class=\"colab-df-container\">\n",
              "    <div>\n",
              "<style scoped>\n",
              "    .dataframe tbody tr th:only-of-type {\n",
              "        vertical-align: middle;\n",
              "    }\n",
              "\n",
              "    .dataframe tbody tr th {\n",
              "        vertical-align: top;\n",
              "    }\n",
              "\n",
              "    .dataframe thead th {\n",
              "        text-align: right;\n",
              "    }\n",
              "</style>\n",
              "<table border=\"1\" class=\"dataframe\">\n",
              "  <thead>\n",
              "    <tr style=\"text-align: right;\">\n",
              "      <th></th>\n",
              "      <th>is_spam</th>\n",
              "      <th>marked_spam</th>\n",
              "    </tr>\n",
              "  </thead>\n",
              "  <tbody>\n",
              "    <tr>\n",
              "      <th>0</th>\n",
              "      <td>True</td>\n",
              "      <td>True</td>\n",
              "    </tr>\n",
              "    <tr>\n",
              "      <th>1</th>\n",
              "      <td>False</td>\n",
              "      <td>True</td>\n",
              "    </tr>\n",
              "    <tr>\n",
              "      <th>2</th>\n",
              "      <td>False</td>\n",
              "      <td>False</td>\n",
              "    </tr>\n",
              "    <tr>\n",
              "      <th>3</th>\n",
              "      <td>False</td>\n",
              "      <td>False</td>\n",
              "    </tr>\n",
              "    <tr>\n",
              "      <th>4</th>\n",
              "      <td>True</td>\n",
              "      <td>False</td>\n",
              "    </tr>\n",
              "  </tbody>\n",
              "</table>\n",
              "</div>\n",
              "    <div class=\"colab-df-buttons\">\n",
              "\n",
              "  <div class=\"colab-df-container\">\n",
              "    <button class=\"colab-df-convert\" onclick=\"convertToInteractive('df-27fa95e9-77d8-45f9-9b95-9e0d1c45ffc3')\"\n",
              "            title=\"Convert this dataframe to an interactive table.\"\n",
              "            style=\"display:none;\">\n",
              "\n",
              "  <svg xmlns=\"http://www.w3.org/2000/svg\" height=\"24px\" viewBox=\"0 -960 960 960\">\n",
              "    <path d=\"M120-120v-720h720v720H120Zm60-500h600v-160H180v160Zm220 220h160v-160H400v160Zm0 220h160v-160H400v160ZM180-400h160v-160H180v160Zm440 0h160v-160H620v160ZM180-180h160v-160H180v160Zm440 0h160v-160H620v160Z\"/>\n",
              "  </svg>\n",
              "    </button>\n",
              "\n",
              "  <style>\n",
              "    .colab-df-container {\n",
              "      display:flex;\n",
              "      gap: 12px;\n",
              "    }\n",
              "\n",
              "    .colab-df-convert {\n",
              "      background-color: #E8F0FE;\n",
              "      border: none;\n",
              "      border-radius: 50%;\n",
              "      cursor: pointer;\n",
              "      display: none;\n",
              "      fill: #1967D2;\n",
              "      height: 32px;\n",
              "      padding: 0 0 0 0;\n",
              "      width: 32px;\n",
              "    }\n",
              "\n",
              "    .colab-df-convert:hover {\n",
              "      background-color: #E2EBFA;\n",
              "      box-shadow: 0px 1px 2px rgba(60, 64, 67, 0.3), 0px 1px 3px 1px rgba(60, 64, 67, 0.15);\n",
              "      fill: #174EA6;\n",
              "    }\n",
              "\n",
              "    .colab-df-buttons div {\n",
              "      margin-bottom: 4px;\n",
              "    }\n",
              "\n",
              "    [theme=dark] .colab-df-convert {\n",
              "      background-color: #3B4455;\n",
              "      fill: #D2E3FC;\n",
              "    }\n",
              "\n",
              "    [theme=dark] .colab-df-convert:hover {\n",
              "      background-color: #434B5C;\n",
              "      box-shadow: 0px 1px 3px 1px rgba(0, 0, 0, 0.15);\n",
              "      filter: drop-shadow(0px 1px 2px rgba(0, 0, 0, 0.3));\n",
              "      fill: #FFFFFF;\n",
              "    }\n",
              "  </style>\n",
              "\n",
              "    <script>\n",
              "      const buttonEl =\n",
              "        document.querySelector('#df-27fa95e9-77d8-45f9-9b95-9e0d1c45ffc3 button.colab-df-convert');\n",
              "      buttonEl.style.display =\n",
              "        google.colab.kernel.accessAllowed ? 'block' : 'none';\n",
              "\n",
              "      async function convertToInteractive(key) {\n",
              "        const element = document.querySelector('#df-27fa95e9-77d8-45f9-9b95-9e0d1c45ffc3');\n",
              "        const dataTable =\n",
              "          await google.colab.kernel.invokeFunction('convertToInteractive',\n",
              "                                                    [key], {});\n",
              "        if (!dataTable) return;\n",
              "\n",
              "        const docLinkHtml = 'Like what you see? Visit the ' +\n",
              "          '<a target=\"_blank\" href=https://colab.research.google.com/notebooks/data_table.ipynb>data table notebook</a>'\n",
              "          + ' to learn more about interactive tables.';\n",
              "        element.innerHTML = '';\n",
              "        dataTable['output_type'] = 'display_data';\n",
              "        await google.colab.output.renderOutput(dataTable, element);\n",
              "        const docLink = document.createElement('div');\n",
              "        docLink.innerHTML = docLinkHtml;\n",
              "        element.appendChild(docLink);\n",
              "      }\n",
              "    </script>\n",
              "  </div>\n",
              "\n",
              "\n",
              "    <div id=\"df-c2edb58a-5324-4c92-b762-2be23550162b\">\n",
              "      <button class=\"colab-df-quickchart\" onclick=\"quickchart('df-c2edb58a-5324-4c92-b762-2be23550162b')\"\n",
              "                title=\"Suggest charts\"\n",
              "                style=\"display:none;\">\n",
              "\n",
              "<svg xmlns=\"http://www.w3.org/2000/svg\" height=\"24px\"viewBox=\"0 0 24 24\"\n",
              "     width=\"24px\">\n",
              "    <g>\n",
              "        <path d=\"M19 3H5c-1.1 0-2 .9-2 2v14c0 1.1.9 2 2 2h14c1.1 0 2-.9 2-2V5c0-1.1-.9-2-2-2zM9 17H7v-7h2v7zm4 0h-2V7h2v10zm4 0h-2v-4h2v4z\"/>\n",
              "    </g>\n",
              "</svg>\n",
              "      </button>\n",
              "\n",
              "<style>\n",
              "  .colab-df-quickchart {\n",
              "      --bg-color: #E8F0FE;\n",
              "      --fill-color: #1967D2;\n",
              "      --hover-bg-color: #E2EBFA;\n",
              "      --hover-fill-color: #174EA6;\n",
              "      --disabled-fill-color: #AAA;\n",
              "      --disabled-bg-color: #DDD;\n",
              "  }\n",
              "\n",
              "  [theme=dark] .colab-df-quickchart {\n",
              "      --bg-color: #3B4455;\n",
              "      --fill-color: #D2E3FC;\n",
              "      --hover-bg-color: #434B5C;\n",
              "      --hover-fill-color: #FFFFFF;\n",
              "      --disabled-bg-color: #3B4455;\n",
              "      --disabled-fill-color: #666;\n",
              "  }\n",
              "\n",
              "  .colab-df-quickchart {\n",
              "    background-color: var(--bg-color);\n",
              "    border: none;\n",
              "    border-radius: 50%;\n",
              "    cursor: pointer;\n",
              "    display: none;\n",
              "    fill: var(--fill-color);\n",
              "    height: 32px;\n",
              "    padding: 0;\n",
              "    width: 32px;\n",
              "  }\n",
              "\n",
              "  .colab-df-quickchart:hover {\n",
              "    background-color: var(--hover-bg-color);\n",
              "    box-shadow: 0 1px 2px rgba(60, 64, 67, 0.3), 0 1px 3px 1px rgba(60, 64, 67, 0.15);\n",
              "    fill: var(--button-hover-fill-color);\n",
              "  }\n",
              "\n",
              "  .colab-df-quickchart-complete:disabled,\n",
              "  .colab-df-quickchart-complete:disabled:hover {\n",
              "    background-color: var(--disabled-bg-color);\n",
              "    fill: var(--disabled-fill-color);\n",
              "    box-shadow: none;\n",
              "  }\n",
              "\n",
              "  .colab-df-spinner {\n",
              "    border: 2px solid var(--fill-color);\n",
              "    border-color: transparent;\n",
              "    border-bottom-color: var(--fill-color);\n",
              "    animation:\n",
              "      spin 1s steps(1) infinite;\n",
              "  }\n",
              "\n",
              "  @keyframes spin {\n",
              "    0% {\n",
              "      border-color: transparent;\n",
              "      border-bottom-color: var(--fill-color);\n",
              "      border-left-color: var(--fill-color);\n",
              "    }\n",
              "    20% {\n",
              "      border-color: transparent;\n",
              "      border-left-color: var(--fill-color);\n",
              "      border-top-color: var(--fill-color);\n",
              "    }\n",
              "    30% {\n",
              "      border-color: transparent;\n",
              "      border-left-color: var(--fill-color);\n",
              "      border-top-color: var(--fill-color);\n",
              "      border-right-color: var(--fill-color);\n",
              "    }\n",
              "    40% {\n",
              "      border-color: transparent;\n",
              "      border-right-color: var(--fill-color);\n",
              "      border-top-color: var(--fill-color);\n",
              "    }\n",
              "    60% {\n",
              "      border-color: transparent;\n",
              "      border-right-color: var(--fill-color);\n",
              "    }\n",
              "    80% {\n",
              "      border-color: transparent;\n",
              "      border-right-color: var(--fill-color);\n",
              "      border-bottom-color: var(--fill-color);\n",
              "    }\n",
              "    90% {\n",
              "      border-color: transparent;\n",
              "      border-bottom-color: var(--fill-color);\n",
              "    }\n",
              "  }\n",
              "</style>\n",
              "\n",
              "      <script>\n",
              "        async function quickchart(key) {\n",
              "          const quickchartButtonEl =\n",
              "            document.querySelector('#' + key + ' button');\n",
              "          quickchartButtonEl.disabled = true;  // To prevent multiple clicks.\n",
              "          quickchartButtonEl.classList.add('colab-df-spinner');\n",
              "          try {\n",
              "            const charts = await google.colab.kernel.invokeFunction(\n",
              "                'suggestCharts', [key], {});\n",
              "          } catch (error) {\n",
              "            console.error('Error during call to suggestCharts:', error);\n",
              "          }\n",
              "          quickchartButtonEl.classList.remove('colab-df-spinner');\n",
              "          quickchartButtonEl.classList.add('colab-df-quickchart-complete');\n",
              "        }\n",
              "        (() => {\n",
              "          let quickchartButtonEl =\n",
              "            document.querySelector('#df-c2edb58a-5324-4c92-b762-2be23550162b button');\n",
              "          quickchartButtonEl.style.display =\n",
              "            google.colab.kernel.accessAllowed ? 'block' : 'none';\n",
              "        })();\n",
              "      </script>\n",
              "    </div>\n",
              "    </div>\n",
              "  </div>\n"
            ],
            "application/vnd.google.colaboratory.intrinsic+json": {
              "type": "dataframe",
              "variable_name": "df",
              "summary": "{\n  \"name\": \"df\",\n  \"rows\": 100,\n  \"fields\": [\n    {\n      \"column\": \"is_spam\",\n      \"properties\": {\n        \"dtype\": \"boolean\",\n        \"num_unique_values\": 2,\n        \"samples\": [\n          false,\n          true\n        ],\n        \"semantic_type\": \"\",\n        \"description\": \"\"\n      }\n    },\n    {\n      \"column\": \"marked_spam\",\n      \"properties\": {\n        \"dtype\": \"boolean\",\n        \"num_unique_values\": 2,\n        \"samples\": [\n          false,\n          true\n        ],\n        \"semantic_type\": \"\",\n        \"description\": \"\"\n      }\n    }\n  ]\n}"
            }
          },
          "metadata": {},
          "execution_count": 3
        }
      ],
      "source": [
        "df = pd.read_csv('spam_classes.csv')\n",
        "df.head()"
      ]
    },
    {
      "cell_type": "markdown",
      "id": "fb3c8d9b",
      "metadata": {
        "id": "fb3c8d9b"
      },
      "source": [
        "## Задание 5: Расчет вероятностей исходя из разных распределений\n",
        "\n",
        "Перед вами ниже находится несколько задач на расчет вероятностей. Ваша задача: определить с помощью какого распределения можно решить задачу и вычислить вероятность с помощью функций плотности распределения из `scipy`.\n",
        "\n",
        "1. Баскетболист совершает 20 штрафных бросков за игру. Вероятность успеха каждого броска составляет 70%. Какова вероятность того, что игрок совершит не менее 15 бросков?\n",
        "2. Время между прибытиями автобусов составляет в среднем 10 минут. Какова вероятность того, что автобус прибудет в течение 5 минут?\n",
        "3. Средний рост взрослого человека составляет 170 см, дисперсия составляем - 100 см. Какова вероятность того, что случайно выбранный взрослый человек имеет рост от 160 до 180 см?\n",
        "4. В большом лесу среднее количество медведей составляет 2 особи на квадратный километр. Какова вероятность встретить 5 и более медведей на квадратном километре?"
      ]
    },
    {
      "cell_type": "markdown",
      "id": "2ace8abc",
      "metadata": {
        "id": "2ace8abc"
      },
      "source": [
        "___"
      ]
    },
    {
      "cell_type": "code",
      "execution_count": null,
      "id": "602950d1",
      "metadata": {
        "id": "602950d1"
      },
      "outputs": [],
      "source": []
    },
    {
      "cell_type": "markdown",
      "id": "70b5c9f0",
      "metadata": {
        "id": "70b5c9f0"
      },
      "source": [
        "## Задание 6: Распределения статистик, Метод Монте-Карло\n",
        "### Выборка случайных величин {${X_i}$} взята из равномерного распределения с параметрами (0, 100).\n",
        "1. С помощью метода Монте-Карло постройте распределение выборочного среднего для выборки {${X_i}$}.\n",
        "2. Каким будет распределение выборочного среднего и почему?\n",
        "3. Постройте распределения для выборочных СКО, медианы и 16-го персентиля."
      ]
    },
    {
      "cell_type": "markdown",
      "id": "3bdf2623",
      "metadata": {
        "id": "3bdf2623"
      },
      "source": [
        "___"
      ]
    },
    {
      "cell_type": "code",
      "execution_count": null,
      "id": "e5620c5c",
      "metadata": {
        "id": "e5620c5c"
      },
      "outputs": [],
      "source": []
    }
  ],
  "metadata": {
    "kernelspec": {
      "display_name": "Python 3",
      "language": "python",
      "name": "python3"
    },
    "language_info": {
      "codemirror_mode": {
        "name": "ipython",
        "version": 3
      },
      "file_extension": ".py",
      "mimetype": "text/x-python",
      "name": "python",
      "nbconvert_exporter": "python",
      "pygments_lexer": "ipython3",
      "version": "3.9.6"
    },
    "colab": {
      "provenance": [],
      "include_colab_link": true
    }
  },
  "nbformat": 4,
  "nbformat_minor": 5
}